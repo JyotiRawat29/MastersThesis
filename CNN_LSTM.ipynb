{
  "cells": [
    {
      "cell_type": "markdown",
      "metadata": {
        "id": "view-in-github",
        "colab_type": "text"
      },
      "source": [
        "<a href=\"https://colab.research.google.com/github/JyotiRawat29/MastersThesis/blob/main/CNN_LSTM.ipynb\" target=\"_parent\"><img src=\"https://colab.research.google.com/assets/colab-badge.svg\" alt=\"Open In Colab\"/></a>"
      ]
    },
    {
      "cell_type": "code",
      "execution_count": null,
      "metadata": {
        "colab": {
          "base_uri": "https://localhost:8080/"
        },
        "id": "1d2wXQ0KwIxD",
        "outputId": "6442d0c8-2d0e-4285-b8eb-70a787d354ac"
      },
      "outputs": [
        {
          "name": "stdout",
          "output_type": "stream",
          "text": [
            "Collecting torchinfo\n",
            "  Downloading torchinfo-1.5.3-py3-none-any.whl (19 kB)\n",
            "Installing collected packages: torchinfo\n",
            "Successfully installed torchinfo-1.5.3\n"
          ]
        },
        {
          "name": "stderr",
          "output_type": "stream",
          "text": [
            "/usr/local/lib/python3.7/dist-packages/sklearn/externals/six.py:31: FutureWarning: The module is deprecated in version 0.21 and will be removed in version 0.23 since we've dropped support for Python 2.7. Please rely on the official version of six (https://pypi.org/project/six/).\n",
            "  \"(https://pypi.org/project/six/).\", FutureWarning)\n",
            "/usr/local/lib/python3.7/dist-packages/sklearn/utils/deprecation.py:144: FutureWarning: The sklearn.neighbors.base module is  deprecated in version 0.22 and will be removed in version 0.24. The corresponding classes / functions should instead be imported from sklearn.neighbors. Anything that cannot be imported from sklearn.neighbors is now part of the private API.\n",
            "  warnings.warn(message, FutureWarning)\n"
          ]
        },
        {
          "name": "stdout",
          "output_type": "stream",
          "text": [
            "Requirement already satisfied: torchinfo in /usr/local/lib/python3.7/dist-packages (1.5.3)\n"
          ]
        }
      ],
      "source": [
        "!pip install torchinfo\n",
        "import numpy as np\n",
        "import torch\n",
        "from torch import Tensor\n",
        "import torch.nn.functional as f\n",
        "from torch import nn\n",
        "import scipy.io as sio\n",
        "import pandas as pd\n",
        "from sklearn.model_selection import train_test_split\n",
        "from sklearn.preprocessing import LabelEncoder\n",
        "from torch.utils.data import TensorDataset, DataLoader\n",
        "from multiprocessing import cpu_count\n",
        "import torch.nn.functional as F\n",
        "import torch.optim as optim\n",
        "\n",
        "from google.colab import drive\n",
        "import tensorflow as tf\n",
        "from tensorflow import summary\n",
        "import matplotlib.pyplot as plt\n",
        "\n",
        "from sklearn import preprocessing\n",
        "from imblearn.over_sampling import SMOTE\n",
        "import matplotlib.pyplot as plt\n",
        "import seaborn as sns\n",
        "!pip install torchinfo\n",
        "\n",
        "from torchinfo import summary\n",
        "from sklearn.metrics import f1_score\n",
        "from sklearn.metrics import confusion_matrix\n",
        "from mlxtend.plotting import plot_confusion_matrix\n",
        "from torch.utils.tensorboard import SummaryWriter\n"
      ]
    },
    {
      "cell_type": "code",
      "execution_count": null,
      "metadata": {
        "id": "8omIUJZtwPZm"
      },
      "outputs": [],
      "source": [
        "writer = SummaryWriter()"
      ]
    },
    {
      "cell_type": "code",
      "execution_count": null,
      "metadata": {
        "id": "251cBXyzwSvL"
      },
      "outputs": [],
      "source": [
        "device = torch.device(\"cuda\" if torch.cuda.is_available() else \"cpu\")"
      ]
    },
    {
      "cell_type": "code",
      "execution_count": null,
      "metadata": {
        "colab": {
          "base_uri": "https://localhost:8080/"
        },
        "id": "JqSpSDVewVgg",
        "outputId": "c065c4f8-a581-458b-b04c-873fc8d7b7de"
      },
      "outputs": [
        {
          "name": "stdout",
          "output_type": "stream",
          "text": [
            "Mounted at /content/drive\n"
          ]
        }
      ],
      "source": [
        "drive.mount('/content/drive')"
      ]
    },
    {
      "cell_type": "code",
      "execution_count": null,
      "metadata": {
        "id": "AIkwqmvPwbd6"
      },
      "outputs": [],
      "source": [
        "torch.cuda.empty_cache()\n",
        "#load the ECG file\n",
        "src_dataset = sio.loadmat('/content/drive/MyDrive/ECG2(withDA).mat')\n",
        "#load the labels\n",
        "label=pd.read_csv('/content/drive/MyDrive/label.csv',header=None)"
      ]
    },
    {
      "cell_type": "code",
      "execution_count": null,
      "metadata": {
        "id": "VLiy4lOnwk36"
      },
      "outputs": [],
      "source": [
        "#print(src_dataset)\n",
        "testdata = src_dataset['ECG'] # use the key for data here\n",
        "X=testdata['Data']"
      ]
    },
    {
      "cell_type": "code",
      "execution_count": null,
      "metadata": {
        "id": "Eo81IchJwnD8"
      },
      "outputs": [],
      "source": [
        "X=np.array(X[0])\n",
        "X = np.vstack(X[:,]).astype(np.float)\n"
      ]
    },
    {
      "cell_type": "code",
      "execution_count": null,
      "metadata": {
        "id": "tOgqVkmmHt0V"
      },
      "outputs": [],
      "source": [
        "#X=torch.from_numpy(X)"
      ]
    },
    {
      "cell_type": "code",
      "execution_count": null,
      "metadata": {
        "id": "5bOtSPU7wvJ4"
      },
      "outputs": [],
      "source": [
        "label=np.array(label, dtype=object)\n",
        "label=np.array(label)\n",
        "label= np.vstack(label[:,]).astype(np.float)\n"
      ]
    },
    {
      "cell_type": "code",
      "execution_count": null,
      "metadata": {
        "id": "p0Q0WtBKsJA6"
      },
      "outputs": [],
      "source": [
        "X = torch.from_numpy(X)\n",
        "Y = torch.from_numpy(label)"
      ]
    },
    {
      "cell_type": "markdown",
      "metadata": {
        "id": "QN-P2sOATrPo"
      },
      "source": [
        "** PRE-PROCESSING OF THE DATA**"
      ]
    },
    {
      "cell_type": "code",
      "execution_count": null,
      "metadata": {
        "id": "2NJ-m-6dTn8J"
      },
      "outputs": [],
      "source": [
        "from sklearn.preprocessing import normalize"
      ]
    },
    {
      "cell_type": "code",
      "execution_count": null,
      "metadata": {
        "id": "iKWmKjiLTn-n"
      },
      "outputs": [],
      "source": [
        "X= X/np.linalg.norm(X) "
      ]
    },
    {
      "cell_type": "markdown",
      "metadata": {
        "id": "G_peDM2IT8pZ"
      },
      "source": [
        "**OVERSAMPLING**"
      ]
    },
    {
      "cell_type": "code",
      "execution_count": null,
      "metadata": {
        "id": "NtVeqOnYToBT"
      },
      "outputs": [],
      "source": [
        "smote = SMOTE()"
      ]
    },
    {
      "cell_type": "code",
      "execution_count": null,
      "metadata": {
        "colab": {
          "base_uri": "https://localhost:8080/"
        },
        "id": "tVznu9kBUHV0",
        "outputId": "9417a9b9-e988-4871-b061-1f9b0cbf8757"
      },
      "outputs": [
        {
          "name": "stderr",
          "output_type": "stream",
          "text": [
            "/usr/local/lib/python3.7/dist-packages/sklearn/utils/validation.py:760: DataConversionWarning: A column-vector y was passed when a 1d array was expected. Please change the shape of y to (n_samples, ), for example using ravel().\n",
            "  y = column_or_1d(y, warn=True)\n",
            "/usr/local/lib/python3.7/dist-packages/sklearn/utils/deprecation.py:87: FutureWarning: Function safe_indexing is deprecated; safe_indexing is deprecated in version 0.22 and will be removed in version 0.24.\n",
            "  warnings.warn(msg, category=FutureWarning)\n",
            "/usr/local/lib/python3.7/dist-packages/sklearn/utils/deprecation.py:87: FutureWarning: Function safe_indexing is deprecated; safe_indexing is deprecated in version 0.22 and will be removed in version 0.24.\n",
            "  warnings.warn(msg, category=FutureWarning)\n"
          ]
        }
      ],
      "source": [
        "x_smote, y_smote = smote.fit_resample(X, label)"
      ]
    },
    {
      "cell_type": "code",
      "execution_count": null,
      "metadata": {
        "id": "oy6VFSz1UHYL"
      },
      "outputs": [],
      "source": [
        "X = torch.from_numpy(x_smote)\n",
        "Y = torch.from_numpy(y_smote)"
      ]
    },
    {
      "cell_type": "code",
      "execution_count": null,
      "metadata": {
        "colab": {
          "base_uri": "https://localhost:8080/"
        },
        "id": "3MUSMY4WUHbT",
        "outputId": "3503d807-4239-4548-f6da-c02ca2d8bb2c"
      },
      "outputs": [
        {
          "data": {
            "text/plain": [
              "torch.Size([1500, 4000])"
            ]
          },
          "execution_count": 15,
          "metadata": {},
          "output_type": "execute_result"
        }
      ],
      "source": [
        "X.shape"
      ]
    },
    {
      "cell_type": "markdown",
      "metadata": {
        "id": "AhhQK_v-Ukxy"
      },
      "source": [
        "**CNN_LSTM**"
      ]
    },
    {
      "cell_type": "code",
      "execution_count": null,
      "metadata": {
        "id": "FrnWsDiwwwIy"
      },
      "outputs": [],
      "source": [
        "def create_datasets(X, Y):\n",
        "    print(\"len of X and Y is\",X.shape,Y.shape)\n",
        "    X_train, X_test, Y_train, Y_test = train_test_split(X, Y, test_size=0.2, stratify = Y) \n",
        "    X_train, X_valid, Y_train, Y_valid = train_test_split(X_train, Y_train, test_size=0.25, stratify = Y_train) \n",
        "    #squeeze labelled data to make it 1 dimension array\n",
        "    \n",
        "    Y_train=torch.squeeze(Y_train)\n",
        "    Y_valid=torch.squeeze(Y_valid)\n",
        "    Y_test=torch.squeeze(Y_test)\n",
        "\n",
        "    print(\"X_train, X_valid, X_test shape before list comprehension\",X_train.shape, X_valid.shape, X_test.shape)\n",
        "    print(\"X_train, X_valid, X_test dtype before list comprehension\",X_train.dtype, X_valid.dtype, X_test.dtype)\n",
        "    print(\"Y_train, Y_valid, Y_test dtype before list comprehension\",Y_train.dtype, Y_valid.dtype, Y_test.dtype)\n",
        "    #the tensors created have dtype float64 but the models have dtypes float32 and its easier to change dtypes of the tensors instead of a model\n",
        "   \n",
        "    X_train, X_valid, X_test = [torch.tensor(arr, dtype=torch.float32) for arr in (X_train, X_valid,X_test)]\n",
        "    Y_train, Y_valid,Y_test = [torch.tensor(arr, dtype=torch.long) for arr in (Y_train, Y_valid,Y_test)]\n",
        "    print(\"X_train, X_valid, X_test shape after list comprehension\",X_train.shape, X_valid.shape, X_test.shape)\n",
        "    print(\"X_train, X_valid, X_test dtype before list comprehension\",X_train.dtype, X_valid.dtype, X_test.dtype)\n",
        "    print(\"Y_train, Y_valid, Y_test dtype before list comprehension\",Y_train.dtype, Y_valid.dtype, Y_test.dtype)\n",
        "    #convert training and testing data into Tensor Dataset\n",
        "    \n",
        "    train_ds = TensorDataset(X_train, Y_train)\n",
        "    valid_ds = TensorDataset(X_valid, Y_valid)\n",
        "    test_ds = TensorDataset(X_test,Y_test)\n",
        "    print(\"train_ds, valid_ds, test_ds length of datasets respectively\",len(train_ds), len(valid_ds), len(test_ds))\n",
        "    return train_ds, valid_ds,test_ds"
      ]
    },
    {
      "cell_type": "code",
      "execution_count": null,
      "metadata": {
        "id": "7icMunAiw5an"
      },
      "outputs": [],
      "source": [
        "def create_loaders(train_ds, valid_ds,test_ds, bs, jobs=0):\n",
        "    train_dl = DataLoader(train_ds, bs, shuffle=True, num_workers=jobs)\n",
        "    valid_dl = DataLoader(valid_ds, bs, shuffle=True, num_workers=jobs)\n",
        "    test_dl = DataLoader(test_ds, bs, shuffle=True, num_workers=jobs)\n",
        "    print(\"lenth of data loaders train_dl, valid_dl, test_dl\",len(train_dl), len(valid_dl), len(test_dl))\n",
        "    return train_dl, valid_dl, test_dl"
      ]
    },
    {
      "cell_type": "code",
      "execution_count": null,
      "metadata": {
        "id": "Qt-Ce_Ahw7Tj"
      },
      "outputs": [],
      "source": [
        "def accuracy(output, target):\n",
        "    return (output.argmax(dim=1) == target).float().mean().item()"
      ]
    },
    {
      "cell_type": "code",
      "execution_count": null,
      "metadata": {
        "colab": {
          "base_uri": "https://localhost:8080/"
        },
        "id": "1RVmqpWtxDsY",
        "outputId": "ea1926d5-fad6-4913-a0e9-319ccbed1b99"
      },
      "outputs": [
        {
          "name": "stdout",
          "output_type": "stream",
          "text": [
            "len of X and Y is torch.Size([1273, 4000]) torch.Size([1273, 1])\n",
            "X_train, X_valid, X_test shape before list comprehension torch.Size([763, 4000]) torch.Size([255, 4000]) torch.Size([255, 4000])\n",
            "X_train, X_valid, X_test dtype before list comprehension torch.float64 torch.float64 torch.float64\n",
            "Y_train, Y_valid, Y_test dtype before list comprehension torch.float64 torch.float64 torch.float64\n",
            "X_train, X_valid, X_test shape after list comprehension torch.Size([763, 4000]) torch.Size([255, 4000]) torch.Size([255, 4000])\n",
            "X_train, X_valid, X_test dtype before list comprehension torch.float32 torch.float32 torch.float32\n",
            "Y_train, Y_valid, Y_test dtype before list comprehension torch.int64 torch.int64 torch.int64\n",
            "train_ds, valid_ds, test_ds length of datasets respectively 763 255 255\n"
          ]
        },
        {
          "name": "stderr",
          "output_type": "stream",
          "text": [
            "/usr/local/lib/python3.7/dist-packages/ipykernel_launcher.py:16: UserWarning: To copy construct from a tensor, it is recommended to use sourceTensor.clone().detach() or sourceTensor.clone().detach().requires_grad_(True), rather than torch.tensor(sourceTensor).\n",
            "  app.launch_new_instance()\n",
            "/usr/local/lib/python3.7/dist-packages/ipykernel_launcher.py:17: UserWarning: To copy construct from a tensor, it is recommended to use sourceTensor.clone().detach() or sourceTensor.clone().detach().requires_grad_(True), rather than torch.tensor(sourceTensor).\n"
          ]
        }
      ],
      "source": [
        "train_ds, val_ds, test_data = create_datasets(X, Y)"
      ]
    },
    {
      "cell_type": "code",
      "execution_count": null,
      "metadata": {
        "colab": {
          "base_uri": "https://localhost:8080/"
        },
        "id": "1TZ-t8wZGlbb",
        "outputId": "59be9b7b-9826-4fab-ef1e-cfc83bbee538"
      },
      "outputs": [
        {
          "name": "stdout",
          "output_type": "stream",
          "text": [
            "lenth of data loaders train_dl, valid_dl, test_dl 24 8 8\n"
          ]
        }
      ],
      "source": [
        "bs = 32\n",
        "train_dl, valid_dl,test_data = create_loaders(train_ds, val_ds,test_data, bs, jobs=cpu_count())"
      ]
    },
    {
      "cell_type": "code",
      "execution_count": null,
      "metadata": {
        "id": "gUgPJVfOxEOL"
      },
      "outputs": [],
      "source": [
        "\n",
        "\n",
        "input_dim = 1\n",
        "hidden_dim = 4000\n",
        "output_cnn = 100\n",
        "layer_dim = 1\n",
        "output_dim = 3\n",
        "seq_dim = 4000\n",
        "lr = 0.0001\n",
        "\n",
        "n_epochs = 101\n",
        "# iterations_per_epoch = len(train_dl)\n",
        "best_acc = 0\n",
        "patience, trials = 100, 0\n",
        "\n",
        "\n"
      ]
    },
    {
      "cell_type": "code",
      "execution_count": null,
      "metadata": {
        "id": "P3kdYpJAM2ks"
      },
      "outputs": [],
      "source": [
        "class LSTM_CNN(nn.Module):\n",
        "  def __init__(self, input_dim, hidden_dim, layer_dim, output_dim,output_channels=1):\n",
        "    super(LSTM_CNN, self).__init__()\n",
        "    self.hidden_dim = hidden_dim\n",
        "    self.layer_dim = layer_dim\n",
        "    self.cnn1 = nn.Conv1d(1,1, kernel_size=4, padding='valid')\n",
        "    self.cnn2 = nn.Conv1d(1,1, kernel_size=4, padding='valid')\n",
        "    self.cnn3 = nn.Conv1d(1,1, kernel_size=4, padding='valid')\n",
        "    self.cnn4 = nn.Conv1d(1,1, kernel_size=4, padding='valid')\n",
        "    self.fc = nn.Linear(120, 100)\n",
        "    self.flat = nn.Flatten()\n",
        "    self.maxP1 = nn.MaxPool1d(4)\n",
        "    self.maxP2 = nn.MaxPool1d(4)\n",
        "    self.maxP3 = nn.MaxPool1d(2)\n",
        "\n",
        "    self.lstm = nn.LSTM(100, 10, 2, batch_first=True)\n",
        "    self.fc1 = nn.Linear(10, output_dim)\n",
        "    self.softmax = nn.Softmax(dim=1)\n",
        "    self.batch_size = None\n",
        "    self.hidden = None\n",
        "  \n",
        "  def forward(self, x):\n",
        "    h0, c0 = self.init_hidden(x)\n",
        "    out = self.cnn1(x) # 3997\n",
        "    out = self.maxP1(out) # 999\n",
        "    out = self.cnn2(out) # 996\n",
        "    out = self.maxP2(out) # 249\n",
        "    out = self.cnn3(out) # 246\n",
        "    out = self.maxP3(out) # 123\n",
        "    out = self.cnn4(out) # 120\n",
        "    # out = self.flat(out)\n",
        "    out = self.fc(out) # 100\n",
        "    out, (hn, cn) = self.lstm(out, (h0, c0))\n",
        "    out = self.flat(out)\n",
        "    out = self.fc1(out)\n",
        "    out = self.softmax(out)\n",
        "    return out\n",
        "  \n",
        "  def init_hidden(self, x):\n",
        "    h0 = torch.zeros(2, x.size(0), 10)\n",
        "    c0 = torch.zeros(2, x.size(0), 10)\n",
        "    #print(\"h0 size in init function\",h0.size())\n",
        "    return [t.to(device) for t in (h0, c0)]"
      ]
    },
    {
      "cell_type": "code",
      "execution_count": null,
      "metadata": {
        "colab": {
          "base_uri": "https://localhost:8080/"
        },
        "id": "0ShThMxbRlpH",
        "outputId": "c08d047d-8b17-417a-ea25-0518a594d786"
      },
      "outputs": [
        {
          "data": {
            "text/plain": [
              "==========================================================================================\n",
              "Layer (type:depth-idx)                   Output Shape              Param #\n",
              "==========================================================================================\n",
              "LSTM_CNN                                 --                        --\n",
              "├─Conv1d: 1-1                            [1, 1, 3997]              5\n",
              "├─MaxPool1d: 1-2                         [1, 1, 999]               --\n",
              "├─Conv1d: 1-3                            [1, 1, 996]               5\n",
              "├─MaxPool1d: 1-4                         [1, 1, 249]               --\n",
              "├─Conv1d: 1-5                            [1, 1, 246]               5\n",
              "├─MaxPool1d: 1-6                         [1, 1, 123]               --\n",
              "├─Conv1d: 1-7                            [1, 1, 120]               5\n",
              "├─Linear: 1-8                            [1, 1, 100]               12,100\n",
              "├─LSTM: 1-9                              [1, 1, 10]                5,360\n",
              "├─Flatten: 1-10                          [1, 10]                   --\n",
              "├─Linear: 1-11                           [1, 3]                    33\n",
              "├─Softmax: 1-12                          [1, 3]                    --\n",
              "==========================================================================================\n",
              "Total params: 17,513\n",
              "Trainable params: 17,513\n",
              "Non-trainable params: 0\n",
              "Total mult-adds (M): 0.04\n",
              "==========================================================================================\n",
              "Input size (MB): 0.02\n",
              "Forward/backward pass size (MB): 0.04\n",
              "Params size (MB): 0.07\n",
              "Estimated Total Size (MB): 0.13\n",
              "=========================================================================================="
            ]
          },
          "execution_count": 18,
          "metadata": {},
          "output_type": "execute_result"
        }
      ],
      "source": [
        "model = LSTM_CNN(input_dim,hidden_dim,layer_dim,output_dim)\n",
        "model = model.to(device)\n",
        "summary(model, (1,1,4000))\n",
        "# print(model)"
      ]
    },
    {
      "cell_type": "code",
      "execution_count": null,
      "metadata": {
        "id": "GNrcylBDSukR"
      },
      "outputs": [],
      "source": [
        "criteria = nn.CrossEntropyLoss()\n",
        "optimizer = torch.optim.Adam(model.parameters(), lr)"
      ]
    },
    {
      "cell_type": "code",
      "execution_count": null,
      "metadata": {
        "id": "9lhbuabNMmlI"
      },
      "outputs": [],
      "source": [
        "import copy"
      ]
    },
    {
      "cell_type": "code",
      "execution_count": null,
      "metadata": {
        "colab": {
          "background_save": true,
          "base_uri": "https://localhost:8080/"
        },
        "id": "Zv4KePcQ8_hf",
        "outputId": "3db61365-37b2-47f0-84e9-3da422313115"
      },
      "outputs": [
        {
          "name": "stdout",
          "output_type": "stream",
          "text": [
            "training loop :: epoch is 1\n",
            "validation loop :: epoch is 1\n",
            "Epoch:   1. Loss: 1.0953. Acc.: 39.22%\n",
            "training loop :: epoch is 2\n",
            "validation loop :: epoch is 2\n",
            "Epoch:   2. Loss: 1.1018. Acc.: 39.22%\n",
            "training loop :: epoch is 3\n",
            "validation loop :: epoch is 3\n",
            "Epoch:   3. Loss: 1.0972. Acc.: 39.22%\n",
            "training loop :: epoch is 4\n",
            "validation loop :: epoch is 4\n",
            "Epoch:   4. Loss: 1.0972. Acc.: 39.22%\n",
            "training loop :: epoch is 5\n",
            "validation loop :: epoch is 5\n",
            "Epoch:   5. Loss: 1.0972. Acc.: 39.22%\n",
            "training loop :: epoch is 6\n",
            "validation loop :: epoch is 6\n",
            "Epoch:   6. Loss: 1.0971. Acc.: 39.22%\n",
            "training loop :: epoch is 7\n",
            "validation loop :: epoch is 7\n",
            "Epoch:   7. Loss: 1.0989. Acc.: 39.22%\n",
            "training loop :: epoch is 8\n",
            "validation loop :: epoch is 8\n",
            "Epoch:   8. Loss: 1.0977. Acc.: 39.22%\n",
            "training loop :: epoch is 9\n",
            "validation loop :: epoch is 9\n",
            "Epoch:   9. Loss: 1.0982. Acc.: 39.22%\n",
            "training loop :: epoch is 10\n",
            "validation loop :: epoch is 10\n",
            "Epoch:  10. Loss: 1.0954. Acc.: 39.22%\n",
            "training loop :: epoch is 11\n",
            "validation loop :: epoch is 11\n",
            "Epoch:  11. Loss: 1.1029. Acc.: 39.22%\n",
            "training loop :: epoch is 12\n",
            "validation loop :: epoch is 12\n",
            "Epoch:  12. Loss: 1.0957. Acc.: 39.22%\n",
            "training loop :: epoch is 13\n",
            "validation loop :: epoch is 13\n",
            "Epoch:  13. Loss: 1.1007. Acc.: 39.22%\n",
            "training loop :: epoch is 14\n",
            "validation loop :: epoch is 14\n",
            "Epoch:  14. Loss: 1.0984. Acc.: 39.22%\n",
            "training loop :: epoch is 15\n",
            "validation loop :: epoch is 15\n",
            "Epoch:  15. Loss: 1.1013. Acc.: 39.22%\n",
            "training loop :: epoch is 16\n",
            "validation loop :: epoch is 16\n",
            "Epoch:  16. Loss: 1.0972. Acc.: 39.22%\n",
            "training loop :: epoch is 17\n",
            "validation loop :: epoch is 17\n",
            "Epoch:  17. Loss: 1.0991. Acc.: 39.22%\n",
            "training loop :: epoch is 18\n",
            "validation loop :: epoch is 18\n",
            "Epoch:  18. Loss: 1.0993. Acc.: 39.22%\n",
            "training loop :: epoch is 19\n",
            "validation loop :: epoch is 19\n",
            "Epoch:  19. Loss: 1.0968. Acc.: 39.22%\n",
            "training loop :: epoch is 20\n",
            "validation loop :: epoch is 20\n",
            "Epoch:  20. Loss: 1.0942. Acc.: 39.22%\n",
            "training loop :: epoch is 21\n",
            "validation loop :: epoch is 21\n",
            "Epoch:  21. Loss: 1.0967. Acc.: 39.22%\n",
            "training loop :: epoch is 22\n",
            "validation loop :: epoch is 22\n",
            "Epoch:  22. Loss: 1.0996. Acc.: 39.22%\n",
            "training loop :: epoch is 23\n",
            "validation loop :: epoch is 23\n",
            "Epoch:  23. Loss: 1.1032. Acc.: 39.22%\n",
            "training loop :: epoch is 24\n",
            "validation loop :: epoch is 24\n",
            "Epoch:  24. Loss: 1.0952. Acc.: 39.22%\n",
            "training loop :: epoch is 25\n",
            "validation loop :: epoch is 25\n",
            "Epoch:  25. Loss: 1.0980. Acc.: 39.22%\n",
            "training loop :: epoch is 26\n",
            "validation loop :: epoch is 26\n",
            "Epoch:  26. Loss: 1.0983. Acc.: 39.22%\n",
            "training loop :: epoch is 27\n",
            "validation loop :: epoch is 27\n",
            "Epoch:  27. Loss: 1.0952. Acc.: 39.22%\n",
            "training loop :: epoch is 28\n",
            "validation loop :: epoch is 28\n",
            "Epoch:  28. Loss: 1.0925. Acc.: 39.22%\n",
            "training loop :: epoch is 29\n",
            "validation loop :: epoch is 29\n",
            "Epoch:  29. Loss: 1.0991. Acc.: 39.22%\n",
            "training loop :: epoch is 30\n",
            "validation loop :: epoch is 30\n",
            "Epoch:  30. Loss: 1.1005. Acc.: 39.22%\n",
            "training loop :: epoch is 31\n",
            "validation loop :: epoch is 31\n",
            "Epoch:  31. Loss: 1.1007. Acc.: 39.22%\n",
            "training loop :: epoch is 32\n",
            "validation loop :: epoch is 32\n",
            "Epoch:  32. Loss: 1.1003. Acc.: 39.22%\n",
            "training loop :: epoch is 33\n",
            "validation loop :: epoch is 33\n",
            "Epoch:  33. Loss: 1.0990. Acc.: 39.22%\n",
            "training loop :: epoch is 34\n",
            "validation loop :: epoch is 34\n",
            "Epoch:  34. Loss: 1.0966. Acc.: 39.22%\n",
            "training loop :: epoch is 35\n",
            "validation loop :: epoch is 35\n",
            "Epoch:  35. Loss: 1.0970. Acc.: 39.22%\n",
            "training loop :: epoch is 36\n",
            "validation loop :: epoch is 36\n",
            "Epoch:  36. Loss: 1.0970. Acc.: 39.22%\n",
            "training loop :: epoch is 37\n",
            "validation loop :: epoch is 37\n",
            "Epoch:  37. Loss: 1.1011. Acc.: 39.22%\n",
            "training loop :: epoch is 38\n",
            "validation loop :: epoch is 38\n",
            "Epoch:  38. Loss: 1.0988. Acc.: 39.22%\n",
            "training loop :: epoch is 39\n",
            "validation loop :: epoch is 39\n",
            "Epoch:  39. Loss: 1.0942. Acc.: 39.22%\n",
            "training loop :: epoch is 40\n",
            "validation loop :: epoch is 40\n",
            "Epoch:  40. Loss: 1.0932. Acc.: 39.22%\n",
            "training loop :: epoch is 41\n",
            "validation loop :: epoch is 41\n",
            "Epoch:  41. Loss: 1.1005. Acc.: 39.22%\n",
            "training loop :: epoch is 42\n",
            "validation loop :: epoch is 42\n",
            "Epoch:  42. Loss: 1.1005. Acc.: 39.22%\n",
            "training loop :: epoch is 43\n",
            "validation loop :: epoch is 43\n",
            "Epoch:  43. Loss: 1.0966. Acc.: 39.22%\n",
            "training loop :: epoch is 44\n",
            "validation loop :: epoch is 44\n",
            "Epoch:  44. Loss: 1.0971. Acc.: 39.22%\n",
            "training loop :: epoch is 45\n",
            "validation loop :: epoch is 45\n",
            "Epoch:  45. Loss: 1.1013. Acc.: 39.22%\n",
            "training loop :: epoch is 46\n",
            "validation loop :: epoch is 46\n",
            "Epoch:  46. Loss: 1.1032. Acc.: 39.22%\n",
            "training loop :: epoch is 47\n",
            "validation loop :: epoch is 47\n",
            "Epoch:  47. Loss: 1.0949. Acc.: 39.22%\n",
            "training loop :: epoch is 48\n",
            "validation loop :: epoch is 48\n",
            "Epoch:  48. Loss: 1.0978. Acc.: 39.22%\n",
            "training loop :: epoch is 49\n",
            "validation loop :: epoch is 49\n",
            "Epoch:  49. Loss: 1.0989. Acc.: 39.22%\n",
            "training loop :: epoch is 50\n",
            "validation loop :: epoch is 50\n",
            "Epoch:  50. Loss: 1.1009. Acc.: 39.22%\n",
            "training loop :: epoch is 51\n",
            "validation loop :: epoch is 51\n",
            "Epoch:  51. Loss: 1.0953. Acc.: 39.22%\n",
            "training loop :: epoch is 52\n",
            "validation loop :: epoch is 52\n",
            "Epoch:  52. Loss: 1.0977. Acc.: 39.22%\n",
            "training loop :: epoch is 53\n",
            "validation loop :: epoch is 53\n",
            "Epoch:  53. Loss: 1.0987. Acc.: 39.22%\n",
            "training loop :: epoch is 54\n",
            "validation loop :: epoch is 54\n",
            "Epoch:  54. Loss: 1.0980. Acc.: 39.22%\n",
            "training loop :: epoch is 55\n",
            "validation loop :: epoch is 55\n",
            "Epoch:  55. Loss: 1.1016. Acc.: 39.22%\n",
            "training loop :: epoch is 56\n",
            "validation loop :: epoch is 56\n",
            "Epoch:  56. Loss: 1.0946. Acc.: 39.22%\n",
            "training loop :: epoch is 57\n",
            "validation loop :: epoch is 57\n",
            "Epoch:  57. Loss: 1.1007. Acc.: 39.22%\n",
            "training loop :: epoch is 58\n",
            "validation loop :: epoch is 58\n",
            "Epoch:  58. Loss: 1.0979. Acc.: 39.22%\n",
            "training loop :: epoch is 59\n",
            "validation loop :: epoch is 59\n",
            "Epoch:  59. Loss: 1.1028. Acc.: 39.22%\n",
            "training loop :: epoch is 60\n",
            "validation loop :: epoch is 60\n",
            "Epoch:  60. Loss: 1.0996. Acc.: 39.22%\n",
            "training loop :: epoch is 61\n",
            "validation loop :: epoch is 61\n",
            "Epoch:  61. Loss: 1.0979. Acc.: 39.22%\n",
            "training loop :: epoch is 62\n",
            "validation loop :: epoch is 62\n",
            "Epoch:  62. Loss: 1.0991. Acc.: 39.22%\n",
            "training loop :: epoch is 63\n",
            "validation loop :: epoch is 63\n",
            "Epoch:  63. Loss: 1.0987. Acc.: 39.22%\n",
            "training loop :: epoch is 64\n",
            "validation loop :: epoch is 64\n",
            "Epoch:  64. Loss: 1.0997. Acc.: 39.22%\n",
            "training loop :: epoch is 65\n",
            "validation loop :: epoch is 65\n",
            "Epoch:  65. Loss: 1.0994. Acc.: 39.22%\n",
            "training loop :: epoch is 66\n",
            "validation loop :: epoch is 66\n",
            "Epoch:  66. Loss: 1.1003. Acc.: 39.22%\n",
            "training loop :: epoch is 67\n",
            "validation loop :: epoch is 67\n",
            "Epoch:  67. Loss: 1.1007. Acc.: 39.22%\n",
            "training loop :: epoch is 68\n",
            "validation loop :: epoch is 68\n",
            "Epoch:  68. Loss: 1.1018. Acc.: 39.22%\n",
            "training loop :: epoch is 69\n",
            "validation loop :: epoch is 69\n",
            "Epoch:  69. Loss: 1.1003. Acc.: 39.22%\n",
            "training loop :: epoch is 70\n",
            "validation loop :: epoch is 70\n",
            "Epoch:  70. Loss: 1.0961. Acc.: 39.22%\n",
            "training loop :: epoch is 71\n",
            "validation loop :: epoch is 71\n",
            "Epoch:  71. Loss: 1.0990. Acc.: 39.22%\n",
            "training loop :: epoch is 72\n",
            "validation loop :: epoch is 72\n",
            "Epoch:  72. Loss: 1.0979. Acc.: 39.22%\n",
            "training loop :: epoch is 73\n",
            "validation loop :: epoch is 73\n",
            "Epoch:  73. Loss: 1.0968. Acc.: 39.22%\n",
            "training loop :: epoch is 74\n",
            "validation loop :: epoch is 74\n",
            "Epoch:  74. Loss: 1.0994. Acc.: 39.22%\n",
            "training loop :: epoch is 75\n",
            "validation loop :: epoch is 75\n",
            "Epoch:  75. Loss: 1.0948. Acc.: 39.22%\n",
            "training loop :: epoch is 76\n",
            "validation loop :: epoch is 76\n",
            "Epoch:  76. Loss: 1.0951. Acc.: 39.22%\n",
            "training loop :: epoch is 77\n",
            "validation loop :: epoch is 77\n",
            "Epoch:  77. Loss: 1.0942. Acc.: 39.22%\n",
            "training loop :: epoch is 78\n",
            "validation loop :: epoch is 78\n",
            "Epoch:  78. Loss: 1.0997. Acc.: 39.22%\n",
            "training loop :: epoch is 79\n",
            "validation loop :: epoch is 79\n",
            "Epoch:  79. Loss: 1.1004. Acc.: 39.22%\n",
            "training loop :: epoch is 80\n",
            "validation loop :: epoch is 80\n",
            "Epoch:  80. Loss: 1.0950. Acc.: 39.22%\n",
            "training loop :: epoch is 81\n",
            "validation loop :: epoch is 81\n",
            "Epoch:  81. Loss: 1.0975. Acc.: 39.22%\n",
            "training loop :: epoch is 82\n",
            "validation loop :: epoch is 82\n",
            "Epoch:  82. Loss: 1.1008. Acc.: 39.22%\n",
            "training loop :: epoch is 83\n",
            "validation loop :: epoch is 83\n",
            "Epoch:  83. Loss: 1.0987. Acc.: 39.22%\n",
            "training loop :: epoch is 84\n",
            "validation loop :: epoch is 84\n",
            "Epoch:  84. Loss: 1.0997. Acc.: 39.22%\n",
            "training loop :: epoch is 85\n",
            "validation loop :: epoch is 85\n",
            "Epoch:  85. Loss: 1.0996. Acc.: 39.22%\n",
            "training loop :: epoch is 86\n",
            "validation loop :: epoch is 86\n",
            "Epoch:  86. Loss: 1.0983. Acc.: 39.22%\n",
            "training loop :: epoch is 87\n",
            "validation loop :: epoch is 87\n",
            "Epoch:  87. Loss: 1.1004. Acc.: 39.22%\n",
            "training loop :: epoch is 88\n",
            "validation loop :: epoch is 88\n",
            "Epoch:  88. Loss: 1.1008. Acc.: 39.22%\n",
            "training loop :: epoch is 89\n",
            "validation loop :: epoch is 89\n",
            "Epoch:  89. Loss: 1.1021. Acc.: 39.22%\n",
            "training loop :: epoch is 90\n",
            "validation loop :: epoch is 90\n",
            "Epoch:  90. Loss: 1.1030. Acc.: 39.22%\n",
            "training loop :: epoch is 91\n",
            "validation loop :: epoch is 91\n",
            "Epoch:  91. Loss: 1.0957. Acc.: 39.22%\n",
            "training loop :: epoch is 92\n",
            "validation loop :: epoch is 92\n",
            "Epoch:  92. Loss: 1.1000. Acc.: 39.22%\n",
            "training loop :: epoch is 93\n",
            "validation loop :: epoch is 93\n",
            "Epoch:  93. Loss: 1.0981. Acc.: 39.22%\n",
            "training loop :: epoch is 94\n",
            "validation loop :: epoch is 94\n",
            "Epoch:  94. Loss: 1.0999. Acc.: 39.22%\n",
            "training loop :: epoch is 95\n",
            "validation loop :: epoch is 95\n",
            "Epoch:  95. Loss: 1.1014. Acc.: 39.22%\n",
            "training loop :: epoch is 96\n",
            "validation loop :: epoch is 96\n",
            "Epoch:  96. Loss: 1.0989. Acc.: 39.22%\n",
            "training loop :: epoch is 97\n",
            "validation loop :: epoch is 97\n",
            "Epoch:  97. Loss: 1.0940. Acc.: 39.22%\n",
            "training loop :: epoch is 98\n",
            "validation loop :: epoch is 98\n",
            "Epoch:  98. Loss: 1.0989. Acc.: 39.22%\n",
            "training loop :: epoch is 99\n",
            "validation loop :: epoch is 99\n",
            "Epoch:  99. Loss: 1.1011. Acc.: 39.22%\n",
            "training loop :: epoch is 100\n",
            "validation loop :: epoch is 100\n",
            "Epoch: 100. Loss: 1.0993. Acc.: 39.22%\n"
          ]
        }
      ],
      "source": [
        "history = dict(train =[], val = [])\n",
        "best_loss = 1\n",
        "act =[]\n",
        "pred = []\n",
        "n_epochs = 100\n",
        "best_model_wts = copy.deepcopy(model.state_dict())\n",
        "for epoch in range(1, n_epochs+1):\n",
        "  train_losses = []\n",
        "  val_losses = []\n",
        "  print(f'training loop :: epoch is {epoch}')\n",
        "  for x_batch,y_batch in train_dl:\n",
        "    \n",
        "    model.train()\n",
        "    x_batch = x_batch.unsqueeze(1)\n",
        "    optimizer.zero_grad()\n",
        "    x_batch = x_batch.to(device)\n",
        "    y_batch = y_batch.to(device)\n",
        "    out = model(x_batch)\n",
        "    loss = criteria(out,y_batch)\n",
        "    loss.backward()\n",
        "    optimizer.step()\n",
        "    train_losses.append(loss.item())\n",
        "    #if i % 5 == 0:\n",
        "     # print(\"iteration %d, epochs %d,loss = %.4f\" %(i,epochs,loss.item()))\n",
        "#VALIDATION LOOP\n",
        "    model.eval()\n",
        "    correct, total = 0, 0\n",
        "    y_class = []\n",
        "    pred_class = []\n",
        "  with torch.no_grad():\n",
        "    print(f'validation loop :: epoch is {epoch}')\n",
        "    for x_val,y_val in valid_dl:\n",
        "      \n",
        "      model.eval()\n",
        "      x_val, y_val = [t for t in (x_val, y_val)]\n",
        "      x_val = x_val.to(device)\n",
        "      y_val = y_val.to(device)\n",
        "\n",
        "      x_val =x_val.unsqueeze(1)\n",
        "      optimizer.zero_grad()\n",
        "\n",
        "      out = model(x_val)\n",
        "      loss_val = criteria(out,y_val)\n",
        "      val_losses.append(loss_val.item())\n",
        "      preds = F.log_softmax(out, dim=1).argmax(dim=1)\n",
        "      total += y_val.size(0)\n",
        "      correct += (preds == y_val).sum().item()\n",
        "      #print(\"preds\", pred)\n",
        "      #print(\"y_val\",y_val)\n",
        "\n",
        "  train_loss = np.mean(train_losses)\n",
        "  val_loss = np.mean(val_losses)\n",
        "  acc = correct / total\n",
        "  y_class+=y_val.tolist()\n",
        "  pred_class+=preds.tolist()\n",
        "  act.append(y_class)\n",
        "  pred.append(pred_class)\n",
        "  history['train'].append(train_loss)\n",
        "  history['val'].append(val_loss)\n",
        "\n",
        "    \n",
        "  print(f'Epoch: {epoch:3d}. Loss: {loss.item():.4f}. Acc.: {acc:2.2%}')\n",
        "\n",
        "  if acc > best_acc:\n",
        "    trials = 0\n",
        "    best_acc = acc\n",
        "    torch.save(model.state_dict(), 'best.pth')\n",
        "    print(f'Epoch {epoch} best model saved with accuracy: {best_acc:2.2%}')\n",
        "\n",
        "  writer.flush()\n",
        "  writer.add_graph(model,x_batch)\n",
        "  writer.close()\n",
        "  model.load_state_dict(best_model_wts)\n"
      ]
    },
    {
      "cell_type": "code",
      "execution_count": null,
      "metadata": {
        "colab": {
          "base_uri": "https://localhost:8080/",
          "height": 295
        },
        "id": "Zdo5l-aMLcGN",
        "outputId": "28cf7aac-215e-4509-cbde-1d6db1627bcb"
      },
      "outputs": [
        {
          "data": {
            "image/png": "[encoded data removed]",
            "text/plain": [
              "<Figure size 432x288 with 1 Axes>"
            ]
          },
          "metadata": {},
          "output_type": "display_data"
        }
      ],
      "source": [
        "\n",
        "ax = plt.figure().gca()\n",
        "\n",
        "ax.plot(history['train'])\n",
        "ax.plot(history['val'])\n",
        "plt.ylabel('Loss')\n",
        "plt.xlabel('Epoch')\n",
        "plt.legend(['train', 'validation'])\n",
        "plt.title('Loss over epochs')\n",
        "#plt.show()\n",
        "plt.savefig('Loss_over_epochs.png')\n"
      ]
    },
    {
      "cell_type": "code",
      "execution_count": null,
      "metadata": {
        "id": "wFtAp7xEWQn7"
      },
      "outputs": [],
      "source": [
        "act =np.array(act)\n",
        "act= act.reshape(3100)"
      ]
    },
    {
      "cell_type": "code",
      "execution_count": null,
      "metadata": {
        "id": "ctQRopteWT35"
      },
      "outputs": [],
      "source": [
        "pred = np.array(pred)\n",
        "pred = pred.reshape(3100)"
      ]
    },
    {
      "cell_type": "code",
      "execution_count": null,
      "metadata": {
        "colab": {
          "base_uri": "https://localhost:8080/"
        },
        "id": "t-sd7FsoWT6b",
        "outputId": "fca2f7dc-196c-4487-e297-3eacfb98ed46"
      },
      "outputs": [
        {
          "data": {
            "text/plain": [
              "0.18436406067677946"
            ]
          },
          "execution_count": 27,
          "metadata": {},
          "output_type": "execute_result"
        }
      ],
      "source": [
        "f1_score(act, pred, average='macro')"
      ]
    },
    {
      "cell_type": "code",
      "execution_count": null,
      "metadata": {
        "id": "0hK-iXFcWT9s"
      },
      "outputs": [],
      "source": [
        "conf_matrix = confusion_matrix(y_true=act, y_pred=pred)"
      ]
    },
    {
      "cell_type": "code",
      "execution_count": null,
      "metadata": {
        "colab": {
          "base_uri": "https://localhost:8080/",
          "height": 432
        },
        "id": "O5KYSL0rWeN2",
        "outputId": "eab1cdc9-e272-4f51-bf53-9ea6846ca9eb"
      },
      "outputs": [
        {
          "data": {
            "image/png": "[encoded data removed]",
            "text/plain": [
              "<Figure size 432x432 with 1 Axes>"
            ]
          },
          "metadata": {},
          "output_type": "display_data"
        }
      ],
      "source": [
        "fig, ax = plot_confusion_matrix(conf_mat=conf_matrix, figsize=(6, 6), cmap=plt.cm.Blues)\n",
        "plt.xlabel('Predictions', fontsize=18)\n",
        "plt.ylabel('Actuals', fontsize=18)\n",
        "plt.title('Confusion Matrix', fontsize=18)\n",
        "plt.show()"
      ]
    },
    {
      "cell_type": "markdown",
      "metadata": {
        "id": "MSepVyQrWi6b"
      },
      "source": [
        "**PREDICTION**"
      ]
    },
    {
      "cell_type": "code",
      "execution_count": null,
      "metadata": {
        "colab": {
          "base_uri": "https://localhost:8080/"
        },
        "id": "J0phSIJ_WqY8",
        "outputId": "b88123aa-ad23-49b9-ce8f-5369ee42ee16"
      },
      "outputs": [
        {
          "name": "stdout",
          "output_type": "stream",
          "text": [
            "Predicting on test dataset\n",
            "f1 score is 0.18779342723004697\n",
            "accuracy on test 39 %\n"
          ]
        }
      ],
      "source": [
        "test_dl = DataLoader(test_data, batch_size=64, shuffle=False)\n",
        "y_classif = []\n",
        "predict_classif = []\n",
        "correct = 0\n",
        "total = 0\n",
        "print('Predicting on test dataset')\n",
        "model = model.to(device)\n",
        "with torch.no_grad():\n",
        "  for data in test_data:\n",
        "    x,y = data\n",
        "    #print(\"x\",x)\n",
        "    x = x.to(device)\n",
        "    y = y.to(device)\n",
        "    x=torch.unsqueeze(x,1)\n",
        "    out = model.train()(x)\n",
        "    _,predicted = torch.max(out.data,1)\n",
        "    total += y.size(0)\n",
        "    correct += (predicted==y).sum().item()\n",
        "    #print(f'y{y}')\n",
        "    #print(f'predicted{predicted}')\n",
        "    y_classif +=y.tolist()\n",
        "    predict_classif +=predicted.tolist()\n",
        "\n",
        "#print(\"y_classif\",y_classif)\n",
        "#print(\"predict_classif\",predict_classif)\n",
        "f1 =f1_score(y_classif, predict_classif, average='macro')\n",
        "print(f'f1 score is {f1}')\n",
        "\n",
        "print(\"accuracy on test %d %%\" % (100 * correct / total), )"
      ]
    },
    {
      "cell_type": "code",
      "execution_count": null,
      "metadata": {
        "id": "NjEbVEJgOpQ9"
      },
      "outputs": [],
      "source": [
        "conf_matrix = confusion_matrix(y_true=y_classif, y_pred=predict_classif)"
      ]
    },
    {
      "cell_type": "code",
      "execution_count": null,
      "metadata": {
        "colab": {
          "base_uri": "https://localhost:8080/",
          "height": 432
        },
        "id": "pVkgmMi8Hn7z",
        "outputId": "569f6edb-70ef-4ade-e91b-7b904b89348a"
      },
      "outputs": [
        {
          "data": {
            "image/png": "[encoded data removed]",
            "text/plain": [
              "<Figure size 432x432 with 1 Axes>"
            ]
          },
          "metadata": {},
          "output_type": "display_data"
        }
      ],
      "source": [
        "fig, ax = plot_confusion_matrix(conf_mat=conf_matrix, figsize=(6, 6), cmap=plt.cm.Blues)\n",
        "plt.xlabel('Predictions', fontsize=18)\n",
        "plt.ylabel('Actuals', fontsize=18)\n",
        "plt.title('Confusion Matrix', fontsize=18)\n",
        "plt.show()"
      ]
    },
    {
      "cell_type": "code",
      "execution_count": null,
      "metadata": {
        "id": "bPtLvAu_axrI"
      },
      "outputs": [],
      "source": [
        ""
      ]
    }
  ],
  "metadata": {
    "colab": {
      "collapsed_sections": [],
      "name": "CNN_LSTM.ipynb",
      "provenance": [],
      "include_colab_link": true
    },
    "kernelspec": {
      "display_name": "Python 3",
      "name": "python3"
    },
    "language_info": {
      "name": "python"
    }
  },
  "nbformat": 4,
  "nbformat_minor": 0
}