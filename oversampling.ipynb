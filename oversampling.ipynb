{
  "nbformat": 4,
  "nbformat_minor": 5,
  "metadata": {
    "kernelspec": {
      "display_name": "Python 3",
      "language": "python",
      "name": "python3"
    },
    "language_info": {
      "codemirror_mode": {
        "name": "ipython",
        "version": 3
      },
      "file_extension": ".py",
      "mimetype": "text/x-python",
      "name": "python",
      "nbconvert_exporter": "python",
      "pygments_lexer": "ipython3",
      "version": "3.8.8"
    },
    "colab": {
      "name": "oversampling.ipynb",
      "provenance": [],
      "collapsed_sections": [],
      "include_colab_link": true
    },
    "accelerator": "GPU"
  },
  "cells": [
    {
      "cell_type": "markdown",
      "metadata": {
        "id": "view-in-github",
        "colab_type": "text"
      },
      "source": [
        "<a href=\"https://colab.research.google.com/github/JyotiRawat29/MastersThesis/blob/main/oversampling.ipynb\" target=\"_parent\"><img src=\"https://colab.research.google.com/assets/colab-badge.svg\" alt=\"Open In Colab\"/></a>"
      ]
    },
    {
      "cell_type": "code",
      "metadata": {
        "id": "708d3ce9",
        "colab": {
          "base_uri": "https://localhost:8080/"
        },
        "outputId": "96d1c705-ff62-4aeb-9ccd-fb3b5622b8bd"
      },
      "source": [
        "import numpy as np\n",
        "import torch\n",
        "from torch import Tensor\n",
        "import torch.nn.functional as f\n",
        "from torch import nn\n",
        "import scipy.io as sio\n",
        "import pandas as pd\n",
        "from sklearn.model_selection import train_test_split\n",
        "from sklearn.preprocessing import LabelEncoder\n",
        "from torch.utils.data import TensorDataset, DataLoader\n",
        "from multiprocessing import cpu_count\n",
        "import torch.nn.functional as F\n",
        "import torch.optim as optim\n",
        "from sklearn import preprocessing\n",
        "from imblearn.over_sampling import SMOTE\n",
        "import matplotlib.pyplot as plt\n",
        "import seaborn as sns\n",
        "!pip install torchinfo\n",
        "from tensorflow import summary\n",
        "from torchinfo import summary\n",
        "from sklearn.metrics import f1_score\n",
        "from sklearn.metrics import confusion_matrix\n",
        "from mlxtend.plotting import plot_confusion_matrix\n",
        "from torch.utils.tensorboard import SummaryWriter\n",
        "writer = SummaryWriter()"
      ],
      "id": "708d3ce9",
      "execution_count": null,
      "outputs": [
        {
          "output_type": "stream",
          "name": "stderr",
          "text": [
            "/usr/local/lib/python3.7/dist-packages/sklearn/externals/six.py:31: FutureWarning: The module is deprecated in version 0.21 and will be removed in version 0.23 since we've dropped support for Python 2.7. Please rely on the official version of six (https://pypi.org/project/six/).\n",
            "  \"(https://pypi.org/project/six/).\", FutureWarning)\n",
            "/usr/local/lib/python3.7/dist-packages/sklearn/utils/deprecation.py:144: FutureWarning: The sklearn.neighbors.base module is  deprecated in version 0.22 and will be removed in version 0.24. The corresponding classes / functions should instead be imported from sklearn.neighbors. Anything that cannot be imported from sklearn.neighbors is now part of the private API.\n",
            "  warnings.warn(message, FutureWarning)\n"
          ]
        },
        {
          "output_type": "stream",
          "name": "stdout",
          "text": [
            "Collecting torchinfo\n",
            "  Downloading torchinfo-1.5.3-py3-none-any.whl (19 kB)\n",
            "Installing collected packages: torchinfo\n",
            "Successfully installed torchinfo-1.5.3\n"
          ]
        }
      ]
    },
    {
      "cell_type": "code",
      "metadata": {
        "id": "m1fdOOKOzPID"
      },
      "source": [
        "device = torch.device(\"cuda\" if torch.cuda.is_available() else \"cpu\")"
      ],
      "id": "m1fdOOKOzPID",
      "execution_count": null,
      "outputs": []
    },
    {
      "cell_type": "code",
      "metadata": {
        "id": "sWZDsvAi0fmp",
        "colab": {
          "base_uri": "https://localhost:8080/"
        },
        "outputId": "5a1df913-9f77-4cf9-aab4-1567a6cfb716"
      },
      "source": [
        "from google.colab import drive\n",
        "drive.mount('/content/drive')"
      ],
      "id": "sWZDsvAi0fmp",
      "execution_count": null,
      "outputs": [
        {
          "output_type": "stream",
          "name": "stdout",
          "text": [
            "Mounted at /content/drive\n"
          ]
        }
      ]
    },
    {
      "cell_type": "markdown",
      "metadata": {
        "id": "SyXgD86u11OY"
      },
      "source": [
        "# New Section"
      ],
      "id": "SyXgD86u11OY"
    },
    {
      "cell_type": "markdown",
      "metadata": {
        "id": "Zjkd0_wD9kIl"
      },
      "source": [
        "**Load Data from source files into numpy array **"
      ],
      "id": "Zjkd0_wD9kIl"
    },
    {
      "cell_type": "code",
      "metadata": {
        "id": "2fc9674b"
      },
      "source": [
        "torch.cuda.empty_cache()\n",
        "#load the ECG file\n",
        "src_dataset = sio.loadmat('/content/drive/MyDrive/ECG2(withDA).mat')\n",
        "#load the labels\n",
        "label=pd.read_csv('/content/drive/MyDrive/label.csv',header=None)"
      ],
      "id": "2fc9674b",
      "execution_count": null,
      "outputs": []
    },
    {
      "cell_type": "code",
      "metadata": {
        "id": "c9eaa823"
      },
      "source": [
        "#print(src_dataset)\n",
        "testdata = src_dataset['ECG'] # use the key for data here\n",
        "X=testdata['Data']"
      ],
      "id": "c9eaa823",
      "execution_count": null,
      "outputs": []
    },
    {
      "cell_type": "code",
      "metadata": {
        "id": "9da3d9ad"
      },
      "source": [
        "X=np.array(X[0])"
      ],
      "id": "9da3d9ad",
      "execution_count": null,
      "outputs": []
    },
    {
      "cell_type": "code",
      "metadata": {
        "id": "cyzuXoDKT9mt"
      },
      "source": [
        "X = np.vstack(X[:,]).astype(np.float)"
      ],
      "id": "cyzuXoDKT9mt",
      "execution_count": null,
      "outputs": []
    },
    {
      "cell_type": "code",
      "metadata": {
        "id": "P4pc9U5GLHDq"
      },
      "source": [
        "#X=torch.from_numpy(X)"
      ],
      "id": "P4pc9U5GLHDq",
      "execution_count": null,
      "outputs": []
    },
    {
      "cell_type": "code",
      "metadata": {
        "id": "42e1f46a"
      },
      "source": [
        "label=np.array(label, dtype=object)\n",
        "label=np.array(label)\n",
        "label= np.vstack(label[:,]).astype(np.float)"
      ],
      "id": "42e1f46a",
      "execution_count": null,
      "outputs": []
    },
    {
      "cell_type": "markdown",
      "metadata": {
        "id": "sweVY9Bq6_dw"
      },
      "source": [
        "**DATA DISTRIBUTION**"
      ],
      "id": "sweVY9Bq6_dw"
    },
    {
      "cell_type": "code",
      "metadata": {
        "id": "ciJ3spSbUJ-p"
      },
      "source": [
        "#count number of values for each label\n",
        "count = np.array(np.unique(label, return_counts=True)).T"
      ],
      "id": "ciJ3spSbUJ-p",
      "execution_count": null,
      "outputs": []
    },
    {
      "cell_type": "code",
      "metadata": {
        "id": "4NbFSWAC_fP8"
      },
      "source": [
        "classes = count[:,0]\n",
        "values = count[:,1]"
      ],
      "id": "4NbFSWAC_fP8",
      "execution_count": null,
      "outputs": []
    },
    {
      "cell_type": "code",
      "metadata": {
        "colab": {
          "base_uri": "https://localhost:8080/",
          "height": 502
        },
        "id": "0VyHKUvw70_7",
        "outputId": "c66489e0-35a9-4800-d3bd-c9d6d419d8ca"
      },
      "source": [
        "sns.set(font_scale =1)\n",
        "plt.figure(figsize=(10,8))\n",
        "ax = sns.barplot(x = classes, y = values, palette=\"Blues_d\", linewidth=2.5, dodge=False)\n",
        "ax.set(xlabel='Classes', ylabel='Number of Samples')\n",
        "plt.savefig('sample_distribution.png')"
      ],
      "id": "0VyHKUvw70_7",
      "execution_count": null,
      "outputs": [
        {
          "output_type": "display_data",
          "data": {
            "image/png": "[encoded data removed]",
            "text/plain": [
              "<Figure size 720x576 with 1 Axes>"
            ]
          },
          "metadata": {}
        }
      ]
    },
    {
      "cell_type": "markdown",
      "metadata": {
        "id": "tEJQ3OB-5mpX"
      },
      "source": [
        "**PRE PROCESSING OF THE DATA**"
      ],
      "id": "tEJQ3OB-5mpX"
    },
    {
      "cell_type": "code",
      "metadata": {
        "colab": {
          "base_uri": "https://localhost:8080/"
        },
        "id": "X9mtzBpiD3bw",
        "outputId": "d36dde45-daac-4c0e-98c3-573bc6f1e8d5"
      },
      "source": [
        "X"
      ],
      "id": "X9mtzBpiD3bw",
      "execution_count": null,
      "outputs": [
        {
          "output_type": "execute_result",
          "data": {
            "text/plain": [
              "array([[ 0.01601611,  0.01644181,  0.01690118, ...,  0.00294596,\n",
              "         0.00106469, -0.00456328],\n",
              "       [-0.11488888, -0.12236424, -0.12891141, ..., -0.03361464,\n",
              "        -0.03650065, -0.03900078],\n",
              "       [-0.04865461, -0.06793926, -0.0696586 , ..., -0.30155847,\n",
              "        -0.33376829, -0.34922594],\n",
              "       ...,\n",
              "       [ 0.11534132,  0.10149052,  0.08043098, ..., -0.12040478,\n",
              "        -0.10044553, -0.07588876],\n",
              "       [-0.04609605, -0.03321084, -0.01958534, ..., -0.01756399,\n",
              "        -0.01391065, -0.01017211],\n",
              "       [ 0.03929655,  0.01265927, -0.00714671, ...,  0.02241839,\n",
              "         0.03816335,  0.05258733]])"
            ]
          },
          "metadata": {},
          "execution_count": 13
        }
      ]
    },
    {
      "cell_type": "code",
      "metadata": {
        "colab": {
          "base_uri": "https://localhost:8080/",
          "height": 285
        },
        "id": "DbUg7T9kKe4f",
        "outputId": "ac1a3e47-c00e-49b3-faf9-44f3e78a56c9"
      },
      "source": [
        "plt.plot(X[1,:])"
      ],
      "id": "DbUg7T9kKe4f",
      "execution_count": null,
      "outputs": [
        {
          "output_type": "execute_result",
          "data": {
            "text/plain": [
              "[<matplotlib.lines.Line2D at 0x7f0f3eb4ef90>]"
            ]
          },
          "metadata": {},
          "execution_count": 14
        },
        {
          "output_type": "display_data",
          "data": {
            "image/png": "[encoded data removed]",
            "text/plain": [
              "<Figure size 432x288 with 1 Axes>"
            ]
          },
          "metadata": {}
        }
      ]
    },
    {
      "cell_type": "code",
      "metadata": {
        "id": "ZqpoS-EQAraM"
      },
      "source": [
        "plt.plot(X) #viewing distribution of X samples"
      ],
      "id": "ZqpoS-EQAraM",
      "execution_count": null,
      "outputs": []
    },
    {
      "cell_type": "code",
      "metadata": {
        "id": "p7TVjsCN5Pdc"
      },
      "source": [
        "a1 = np.linalg.norm(X[1,:])"
      ],
      "id": "p7TVjsCN5Pdc",
      "execution_count": null,
      "outputs": []
    },
    {
      "cell_type": "code",
      "metadata": {
        "id": "yvPw9RubHwwD"
      },
      "source": [
        "from sklearn.preprocessing import normalize"
      ],
      "id": "yvPw9RubHwwD",
      "execution_count": null,
      "outputs": []
    },
    {
      "cell_type": "code",
      "metadata": {
        "id": "oks_2TbPKss3"
      },
      "source": [
        "X= X/np.linalg.norm(X) # data normalisation"
      ],
      "id": "oks_2TbPKss3",
      "execution_count": null,
      "outputs": []
    },
    {
      "cell_type": "code",
      "metadata": {
        "colab": {
          "base_uri": "https://localhost:8080/",
          "height": 285
        },
        "id": "_2Q4vBRlK0n5",
        "outputId": "3f144767-2064-4d35-98f8-3dacf756b421"
      },
      "source": [
        "plt.plot(X[1,:])"
      ],
      "id": "_2Q4vBRlK0n5",
      "execution_count": null,
      "outputs": [
        {
          "output_type": "execute_result",
          "data": {
            "text/plain": [
              "[<matplotlib.lines.Line2D at 0x7fb1121e8c90>]"
            ]
          },
          "metadata": {},
          "execution_count": 64
        },
        {
          "output_type": "display_data",
          "data": {
            "image/png": "[encoded data removed]",
            "text/plain": [
              "<Figure size 432x288 with 1 Axes>"
            ]
          },
          "metadata": {}
        }
      ]
    },
    {
      "cell_type": "code",
      "metadata": {
        "id": "mc1N6rFg8JG7"
      },
      "source": [
        "plt.plot(X)"
      ],
      "id": "mc1N6rFg8JG7",
      "execution_count": null,
      "outputs": []
    },
    {
      "cell_type": "code",
      "metadata": {
        "colab": {
          "base_uri": "https://localhost:8080/"
        },
        "id": "oToOURBtEtT4",
        "outputId": "bc2e2a91-5fdc-41a7-ac7e-746a7c2428db"
      },
      "source": [
        "print(\"shape of X is\",X.shape)\n",
        "print(\"shape of Y is\", label.shape)"
      ],
      "id": "oToOURBtEtT4",
      "execution_count": null,
      "outputs": [
        {
          "output_type": "stream",
          "name": "stdout",
          "text": [
            "shape of X is (1273, 4000)\n",
            "shape of Y is (1273, 1)\n"
          ]
        }
      ]
    },
    {
      "cell_type": "markdown",
      "metadata": {
        "id": "tJOFLdWx7eb0"
      },
      "source": [
        "**OVERSAMPLING**"
      ],
      "id": "tJOFLdWx7eb0"
    },
    {
      "cell_type": "code",
      "metadata": {
        "id": "XXp8LWLhmgO7"
      },
      "source": [
        "\n",
        "smote = SMOTE()"
      ],
      "id": "XXp8LWLhmgO7",
      "execution_count": null,
      "outputs": []
    },
    {
      "cell_type": "code",
      "metadata": {
        "colab": {
          "base_uri": "https://localhost:8080/"
        },
        "id": "YNMQcrd_mkgg",
        "outputId": "bef4ddfc-e8ca-4315-c424-836878ffc14a"
      },
      "source": [
        "x_smote, y_smote = smote.fit_resample(X, label)"
      ],
      "id": "YNMQcrd_mkgg",
      "execution_count": null,
      "outputs": [
        {
          "output_type": "stream",
          "name": "stderr",
          "text": [
            "/usr/local/lib/python3.7/dist-packages/sklearn/utils/validation.py:760: DataConversionWarning: A column-vector y was passed when a 1d array was expected. Please change the shape of y to (n_samples, ), for example using ravel().\n",
            "  y = column_or_1d(y, warn=True)\n",
            "/usr/local/lib/python3.7/dist-packages/sklearn/utils/deprecation.py:87: FutureWarning: Function safe_indexing is deprecated; safe_indexing is deprecated in version 0.22 and will be removed in version 0.24.\n",
            "  warnings.warn(msg, category=FutureWarning)\n",
            "/usr/local/lib/python3.7/dist-packages/sklearn/utils/deprecation.py:87: FutureWarning: Function safe_indexing is deprecated; safe_indexing is deprecated in version 0.22 and will be removed in version 0.24.\n",
            "  warnings.warn(msg, category=FutureWarning)\n"
          ]
        }
      ]
    },
    {
      "cell_type": "code",
      "metadata": {
        "colab": {
          "base_uri": "https://localhost:8080/"
        },
        "id": "tXCev-6PLv1h",
        "outputId": "491130f3-947b-4926-a0ff-86ca081370df"
      },
      "source": [
        "print(\"shape of X after oversampling is\",x_smote.shape)\n",
        "print(\"shape of Y after oversampling is\", y_smote.shape)"
      ],
      "id": "tXCev-6PLv1h",
      "execution_count": null,
      "outputs": [
        {
          "output_type": "stream",
          "name": "stdout",
          "text": [
            "shape of X after oversampling is (1500, 4000)\n",
            "shape of Y after oversampling is (1500,)\n"
          ]
        }
      ]
    },
    {
      "cell_type": "code",
      "metadata": {
        "id": "HKR7EBzUMENG"
      },
      "source": [
        "count = np.array(np.unique(y_smote, return_counts=True)).T"
      ],
      "id": "HKR7EBzUMENG",
      "execution_count": null,
      "outputs": []
    },
    {
      "cell_type": "code",
      "metadata": {
        "id": "EMFTZsJxMOQt"
      },
      "source": [
        "classes = count[:,0]\n",
        "values = count[:,1]"
      ],
      "id": "EMFTZsJxMOQt",
      "execution_count": null,
      "outputs": []
    },
    {
      "cell_type": "code",
      "metadata": {
        "colab": {
          "base_uri": "https://localhost:8080/",
          "height": 502
        },
        "id": "YfYWkc4aMO79",
        "outputId": "2ff8c7ab-b61a-4b6d-f156-7b1be3015449"
      },
      "source": [
        "sns.set(font_scale =1)\n",
        "plt.figure(figsize=(10,8))\n",
        "ax = sns.barplot(x = classes, y = values, palette=\"Blues_d\", linewidth=2.5, dodge=False)\n",
        "ax.set(xlabel='Classes', ylabel='Number of Samples')\n",
        "plt.savefig('sample_distribution.png')"
      ],
      "id": "YfYWkc4aMO79",
      "execution_count": null,
      "outputs": [
        {
          "output_type": "display_data",
          "data": {
            "image/png": "[encoded data removed]",
            "text/plain": [
              "<Figure size 720x576 with 1 Axes>"
            ]
          },
          "metadata": {}
        }
      ]
    },
    {
      "cell_type": "code",
      "metadata": {
        "id": "jnoPxVWcoL6i"
      },
      "source": [
        "X = torch.from_numpy(x_smote)\n",
        "Y = torch.from_numpy(y_smote)"
      ],
      "id": "jnoPxVWcoL6i",
      "execution_count": null,
      "outputs": []
    },
    {
      "cell_type": "code",
      "metadata": {
        "colab": {
          "base_uri": "https://localhost:8080/"
        },
        "id": "u4vjpgT6zYOk",
        "outputId": "d8f6569b-d144-4972-a44a-0ab5457a600c"
      },
      "source": [
        "X.shape"
      ],
      "id": "u4vjpgT6zYOk",
      "execution_count": null,
      "outputs": [
        {
          "output_type": "execute_result",
          "data": {
            "text/plain": [
              "torch.Size([1500, 4000])"
            ]
          },
          "metadata": {},
          "execution_count": 24
        }
      ]
    },
    {
      "cell_type": "code",
      "metadata": {
        "colab": {
          "base_uri": "https://localhost:8080/"
        },
        "id": "ec854cvd0VDi",
        "outputId": "c0178a87-6012-4bb9-8f0e-52a42da598a9"
      },
      "source": [
        "Y.size()"
      ],
      "id": "ec854cvd0VDi",
      "execution_count": null,
      "outputs": [
        {
          "output_type": "execute_result",
          "data": {
            "text/plain": [
              "torch.Size([1500])"
            ]
          },
          "metadata": {},
          "execution_count": 25
        }
      ]
    },
    {
      "cell_type": "code",
      "metadata": {
        "colab": {
          "base_uri": "https://localhost:8080/"
        },
        "id": "LCdrBaM-0_vV",
        "outputId": "139ca9c8-f69d-461e-c05e-6390738be261"
      },
      "source": [
        "Y = Y.resize(1500,1)"
      ],
      "id": "LCdrBaM-0_vV",
      "execution_count": null,
      "outputs": [
        {
          "output_type": "stream",
          "name": "stderr",
          "text": [
            "/usr/local/lib/python3.7/dist-packages/torch/_tensor.py:490: UserWarning: non-inplace resize is deprecated\n",
            "  warnings.warn(\"non-inplace resize is deprecated\")\n"
          ]
        }
      ]
    },
    {
      "cell_type": "markdown",
      "metadata": {
        "id": "vJIHyX1grHf2"
      },
      "source": [
        "**DATA PREPARATION**"
      ],
      "id": "vJIHyX1grHf2"
    },
    {
      "cell_type": "code",
      "metadata": {
        "id": "03ae1486"
      },
      "source": [
        "def create_datasets(X, Y):\n",
        "    print(\"len of X and Y is\",X.shape,Y.shape)\n",
        "    X_train, X_test, Y_train, Y_test = train_test_split(X, Y, test_size=0.2, stratify = Y) \n",
        "    X_train, X_valid, Y_train, Y_valid = train_test_split(X_train, Y_train, test_size=0.25, stratify = Y_train) \n",
        "    #squeeze labelled data to make it 1 dimension array\n",
        "    \n",
        "    Y_train=torch.squeeze(Y_train)\n",
        "    Y_valid=torch.squeeze(Y_valid)\n",
        "    Y_test=torch.squeeze(Y_test)\n",
        "\n",
        "    print(\"X_train, X_valid, X_test shape before list comprehension\",X_train.shape, X_valid.shape, X_test.shape)\n",
        "    print(\"X_train, X_valid, X_test dtype before list comprehension\",X_train.dtype, X_valid.dtype, X_test.dtype)\n",
        "    print(\"Y_train, Y_valid, Y_test dtype before list comprehension\",Y_train.dtype, Y_valid.dtype, Y_test.dtype)\n",
        "    #the tensors created have dtype float64 but the models have dtypes float32 and its easier to change dtypes of the tensors instead of a model\n",
        "   \n",
        "    X_train, X_valid, X_test = [torch.tensor(arr, dtype=torch.float32) for arr in (X_train, X_valid,X_test)]\n",
        "    Y_train, Y_valid,Y_test = [torch.tensor(arr, dtype=torch.long) for arr in (Y_train, Y_valid,Y_test)]\n",
        "    print(\"X_train, X_valid, X_test shape after list comprehension\",X_train.shape, X_valid.shape, X_test.shape)\n",
        "    print(\"X_train, X_valid, X_test dtype before list comprehension\",X_train.dtype, X_valid.dtype, X_test.dtype)\n",
        "    print(\"Y_train, Y_valid, Y_test dtype before list comprehension\",Y_train.dtype, Y_valid.dtype, Y_test.dtype)\n",
        "    #convert training and testing data into Tensor Dataset\n",
        "    \n",
        "    train_ds = TensorDataset(X_train, Y_train)\n",
        "    valid_ds = TensorDataset(X_valid, Y_valid)\n",
        "    test_ds = TensorDataset(X_test,Y_test)\n",
        "    print(\"train_ds, valid_ds, test_ds length of datasets respectively\",len(train_ds), len(valid_ds), len(test_ds))\n",
        "    return train_ds, valid_ds,test_ds"
      ],
      "id": "03ae1486",
      "execution_count": null,
      "outputs": []
    },
    {
      "cell_type": "code",
      "metadata": {
        "id": "fe229683"
      },
      "source": [
        "def create_loaders(train_ds, valid_ds,test_ds, bs, jobs=0):\n",
        "    train_dl = DataLoader(train_ds, bs, shuffle=True, num_workers=jobs)\n",
        "    valid_dl = DataLoader(valid_ds, bs, shuffle=True, num_workers=jobs)\n",
        "    test_dl = DataLoader(test_ds, bs, shuffle=True, num_workers=jobs)\n",
        "    print(\"lenth of data loaders train_dl, valid_dl, test_dl\",len(train_dl), len(valid_dl), len(test_dl))\n",
        "    return train_dl, valid_dl, test_dl"
      ],
      "id": "fe229683",
      "execution_count": null,
      "outputs": []
    },
    {
      "cell_type": "code",
      "metadata": {
        "id": "g5mJhmMeobx-"
      },
      "source": [
        "def accuracy(output, target):\n",
        "    return (output.argmax(dim=1) == target).float().mean().item()"
      ],
      "id": "g5mJhmMeobx-",
      "execution_count": null,
      "outputs": []
    },
    {
      "cell_type": "code",
      "metadata": {
        "id": "IiwrczWioj6d"
      },
      "source": [
        "class LSTMClassifier(nn.Module):\n",
        " \n",
        "\n",
        "    def __init__(self, input_dim, hidden_dim, layer_dim, output_dim):\n",
        "        super().__init__()\n",
        "        self.hidden_dim = hidden_dim\n",
        "        self.layer_dim = layer_dim\n",
        "        self.lstm = nn.LSTM(input_dim, hidden_dim, layer_dim, batch_first=True)\n",
        "        self.fc = nn.Linear(hidden_dim, output_dim)\n",
        "\n",
        "        \n",
        "    def forward(self, x):\n",
        "        h0, c0 = self.init_hidden(x)\n",
        "        out, (hn, cn) = self.lstm(x, (h0, c0))\n",
        "        out = self.fc(out[:, -1, :])\n",
        "        return out\n",
        "\n",
        "\n",
        "    def init_hidden(self, x):\n",
        "        h0 = torch.zeros(self.layer_dim, x.size(0), self.hidden_dim)\n",
        "        c0 = torch.zeros(self.layer_dim, x.size(0), self.hidden_dim)\n",
        "        return [t.to(device) for t in (h0, c0)]\n"
      ],
      "id": "IiwrczWioj6d",
      "execution_count": null,
      "outputs": []
    },
    {
      "cell_type": "code",
      "metadata": {
        "colab": {
          "base_uri": "https://localhost:8080/"
        },
        "id": "81b69bb5",
        "outputId": "c63335f7-1005-469b-c8d7-32017739f1c9"
      },
      "source": [
        "train_ds, val_ds, test_data = create_datasets(X, Y)"
      ],
      "id": "81b69bb5",
      "execution_count": null,
      "outputs": [
        {
          "output_type": "stream",
          "name": "stdout",
          "text": [
            "len of X and Y is torch.Size([1500, 4000]) torch.Size([1500, 1])\n",
            "X_train, X_valid, X_test shape before list comprehension torch.Size([900, 4000]) torch.Size([300, 4000]) torch.Size([300, 4000])\n",
            "X_train, X_valid, X_test dtype before list comprehension torch.float64 torch.float64 torch.float64\n",
            "Y_train, Y_valid, Y_test dtype before list comprehension torch.float64 torch.float64 torch.float64\n",
            "X_train, X_valid, X_test shape after list comprehension torch.Size([900, 4000]) torch.Size([300, 4000]) torch.Size([300, 4000])\n",
            "X_train, X_valid, X_test dtype before list comprehension torch.float32 torch.float32 torch.float32\n",
            "Y_train, Y_valid, Y_test dtype before list comprehension torch.int64 torch.int64 torch.int64\n",
            "train_ds, valid_ds, test_ds length of datasets respectively 900 300 300\n"
          ]
        },
        {
          "output_type": "stream",
          "name": "stderr",
          "text": [
            "/usr/local/lib/python3.7/dist-packages/ipykernel_launcher.py:16: UserWarning: To copy construct from a tensor, it is recommended to use sourceTensor.clone().detach() or sourceTensor.clone().detach().requires_grad_(True), rather than torch.tensor(sourceTensor).\n",
            "  app.launch_new_instance()\n",
            "/usr/local/lib/python3.7/dist-packages/ipykernel_launcher.py:17: UserWarning: To copy construct from a tensor, it is recommended to use sourceTensor.clone().detach() or sourceTensor.clone().detach().requires_grad_(True), rather than torch.tensor(sourceTensor).\n"
          ]
        }
      ]
    },
    {
      "cell_type": "code",
      "metadata": {
        "colab": {
          "base_uri": "https://localhost:8080/"
        },
        "id": "KQR_nQ9v1DAi",
        "outputId": "a7c08924-f9d8-4f0c-f465-8fc956b9d94b"
      },
      "source": [
        "device = torch.device('cuda:0' if torch.cuda.is_available() else 'cpu')\n",
        "bs =32\n",
        "print(f'Creating data loaders with batch size: {bs}')\n",
        "train_dl, val_dl,test_data = create_loaders(train_ds, val_ds,test_data, bs, jobs=cpu_count())"
      ],
      "id": "KQR_nQ9v1DAi",
      "execution_count": null,
      "outputs": [
        {
          "output_type": "stream",
          "name": "stdout",
          "text": [
            "Creating data loaders with batch size: 32\n",
            "lenth of data loaders train_dl, valid_dl, test_dl 29 10 10\n"
          ]
        }
      ]
    },
    {
      "cell_type": "code",
      "metadata": {
        "id": "3315sIDdoxVl"
      },
      "source": [
        "\n",
        "input_dim = 1\n",
        "hidden_dim = 100\n",
        "layer_dim = 1\n",
        "output_dim = 3\n",
        "seq_dim = 4000\n",
        "lr = 0.001\n",
        "n_epochs = 100\n",
        "iterations_per_epoch = len(train_dl)\n",
        "best_acc = 0\n",
        "patience, trials = 100, 0\n",
        "\n",
        "\n"
      ],
      "id": "3315sIDdoxVl",
      "execution_count": null,
      "outputs": []
    },
    {
      "cell_type": "code",
      "metadata": {
        "id": "gH0w_d1_e6b7"
      },
      "source": [
        "model = LSTMClassifier(input_dim,hidden_dim,layer_dim,output_dim)\n",
        "model = model.to(device)\n",
        "criteria = nn.CrossEntropyLoss()\n",
        "optimizer = torch.optim.Adam(model.parameters(), lr)"
      ],
      "id": "gH0w_d1_e6b7",
      "execution_count": null,
      "outputs": []
    },
    {
      "cell_type": "code",
      "metadata": {
        "colab": {
          "base_uri": "https://localhost:8080/"
        },
        "id": "J5a25LB9s2Pb",
        "outputId": "8645b50f-d051-44f6-99fc-0ecb68daedd4"
      },
      "source": [
        "model"
      ],
      "id": "J5a25LB9s2Pb",
      "execution_count": null,
      "outputs": [
        {
          "output_type": "execute_result",
          "data": {
            "text/plain": [
              "LSTMClassifier(\n",
              "  (lstm): LSTM(1, 100, batch_first=True)\n",
              "  (fc): Linear(in_features=100, out_features=3, bias=True)\n",
              ")"
            ]
          },
          "metadata": {},
          "execution_count": 35
        }
      ]
    },
    {
      "cell_type": "code",
      "metadata": {
        "colab": {
          "base_uri": "https://localhost:8080/"
        },
        "id": "OuHYmTMOpmOt",
        "outputId": "be99ce56-0585-408b-89c5-9aa14d871212"
      },
      "source": [
        "summary(model)"
      ],
      "id": "OuHYmTMOpmOt",
      "execution_count": null,
      "outputs": [
        {
          "output_type": "execute_result",
          "data": {
            "text/plain": [
              "=================================================================\n",
              "Layer (type:depth-idx)                   Param #\n",
              "=================================================================\n",
              "LSTMClassifier                           --\n",
              "├─LSTM: 1-1                              41,200\n",
              "├─Linear: 1-2                            303\n",
              "=================================================================\n",
              "Total params: 41,503\n",
              "Trainable params: 41,503\n",
              "Non-trainable params: 0\n",
              "================================================================="
            ]
          },
          "metadata": {},
          "execution_count": 36
        }
      ]
    },
    {
      "cell_type": "code",
      "metadata": {
        "id": "1qBJ5hZVFcgH"
      },
      "source": [
        "import copy\n",
        "best_model_wts = copy.deepcopy(model.state_dict())"
      ],
      "id": "1qBJ5hZVFcgH",
      "execution_count": null,
      "outputs": []
    },
    {
      "cell_type": "code",
      "metadata": {
        "colab": {
          "base_uri": "https://localhost:8080/",
          "height": 1000
        },
        "id": "ea56dce6",
        "outputId": "3cb6ab4f-a4f9-4988-fa9d-b5575c68923f"
      },
      "source": [
        "history = dict(train =[], val = [])\n",
        "act =[]\n",
        "pred = []\n",
        "best_loss = 1\n",
        "best_model_wts = copy.deepcopy(model.state_dict())\n",
        "for epoch in range(1, n_epochs + 1):\n",
        "    train_losses = []\n",
        "    val_losses = []\n",
        "    print(f'training loop :: epoch is {epoch}')\n",
        "    for i, (x_batch, y_batch) in enumerate(train_dl):\n",
        "        \n",
        "        model.train() #optional, it is done to set the model in training mode which is by default\n",
        "        optimizer.zero_grad()\n",
        "        #added the dimesnion here at 2nd position which makes the shape of tensor (32,4000,1)\n",
        "        x_batch=torch.unsqueeze(x_batch,2)\n",
        "        optimizer.zero_grad()\n",
        "        x_batch = x_batch.to(device)\n",
        "        y_batch = y_batch.to(device)\n",
        "        out = model(x_batch)\n",
        "        loss = criteria(out,y_batch)\n",
        "        loss.backward()\n",
        "        optimizer.step()\n",
        "\n",
        "        train_losses.append(loss.item())\n",
        "#VALIDATION LOOP\n",
        "    model.eval()\n",
        "    correct, total = 0, 0\n",
        "    y_class = []\n",
        "    pred_class = []\n",
        "    #problem with the x_val size and type here\n",
        "    print(f'validation loop :: epoch is {epoch}')\n",
        "    for x_val, y_val in val_dl:\n",
        "        model.eval()\n",
        "        x_val, y_val = [t for t in (x_val, y_val)]\n",
        "        x_val = x_val.to(device)\n",
        "        y_val = y_val.to(device)\n",
        "        x_val=torch.unsqueeze(x_val,2)\n",
        "        out = model(x_val)\n",
        "        loss_val = criteria(out,y_val)\n",
        "        val_losses.append(loss_val.item())\n",
        "        preds = F.log_softmax(out, dim=1).argmax(dim=1)\n",
        "        print(\"preds\",preds)\n",
        "        print(\"y_val\",y_val)\n",
        "        total += y_val.size(0)\n",
        "        correct += (preds == y_val).sum().item()\n",
        "\n",
        "    train_loss = np.mean(train_losses)\n",
        "    val_loss = np.mean(val_losses)\n",
        "    acc = correct / total\n",
        "    y_class+=y_val.tolist()\n",
        "    pred_class+=preds.tolist()\n",
        "    act.append(y_class)\n",
        "    pred.append(pred_class)\n",
        "    history['train'].append(train_loss)\n",
        "    history['val'].append(val_loss) \n",
        "\n",
        "    print(f'Epoch: {epoch:3d}. Loss: {loss.item():.4f}. Acc.: {acc:2.2%}')\n",
        "\n",
        "    if acc > best_acc:\n",
        "        trials = 0\n",
        "        best_acc = acc\n",
        "        torch.save(model.state_dict(), 'best.pth')\n",
        "        print(f'Epoch {epoch} best model saved with accuracy: {best_acc:2.2%}')\n",
        "writer.flush()\n",
        "writer.add_graph(model,x_batch)\n",
        "writer.close()\n",
        "model.load_state_dict(best_model_wts)\n",
        "\n",
        "\n"
      ],
      "id": "ea56dce6",
      "execution_count": null,
      "outputs": [
        {
          "output_type": "stream",
          "name": "stdout",
          "text": [
            "training loop :: epoch is 1\n",
            "validation loop :: epoch is 1\n",
            "preds tensor([2, 2, 2, 2, 2, 2, 2, 2, 2, 2, 2, 2, 2, 2, 2, 2, 2, 2, 2, 2, 2, 2, 2, 2,\n",
            "        2, 2, 2, 2, 2, 2, 2, 2], device='cuda:0')\n",
            "y_val tensor([0, 0, 0, 2, 1, 2, 1, 1, 2, 1, 1, 2, 0, 1, 2, 0, 2, 0, 1, 1, 0, 1, 0, 2,\n",
            "        2, 0, 1, 2, 1, 2, 0, 2], device='cuda:0')\n",
            "preds tensor([2, 2, 2, 2, 2, 2, 2, 2, 2, 2, 2, 2, 2, 2, 2, 2, 2, 2, 2, 2, 2, 2, 2, 2,\n",
            "        2, 2, 2, 2, 2, 2, 2, 2], device='cuda:0')\n",
            "y_val tensor([2, 1, 1, 0, 0, 0, 1, 2, 0, 1, 0, 1, 0, 0, 0, 2, 1, 2, 0, 1, 2, 2, 0, 1,\n",
            "        0, 1, 0, 0, 1, 0, 1, 2], device='cuda:0')\n",
            "preds tensor([2, 2, 2, 2, 2, 2, 2, 2, 2, 2, 2, 2, 2, 2, 2, 2, 2, 2, 2, 2, 2, 2, 2, 2,\n",
            "        2, 2, 2, 2, 2, 2, 2, 2], device='cuda:0')\n",
            "y_val tensor([0, 1, 2, 0, 1, 1, 1, 1, 1, 0, 1, 2, 0, 2, 1, 0, 1, 2, 1, 2, 1, 2, 0, 1,\n",
            "        2, 1, 0, 0, 0, 2, 2, 1], device='cuda:0')\n",
            "preds tensor([2, 2, 2, 2, 2, 2, 2, 2, 2, 2, 2, 2, 2, 2, 2, 2, 2, 2, 2, 2, 2, 2, 2, 2,\n",
            "        2, 2, 2, 2, 2, 2, 2, 2], device='cuda:0')\n",
            "y_val tensor([0, 0, 2, 0, 2, 1, 1, 0, 2, 0, 2, 1, 0, 2, 1, 0, 1, 2, 2, 1, 2, 2, 2, 0,\n",
            "        2, 0, 2, 0, 2, 1, 1, 1], device='cuda:0')\n",
            "preds tensor([2, 2, 2, 2, 2, 2, 2, 2, 2, 2, 2, 2, 2, 2, 2, 2, 2, 2, 2, 2, 2, 2, 2, 2,\n",
            "        2, 2, 2, 2, 2, 2, 2, 2], device='cuda:0')\n",
            "y_val tensor([0, 0, 2, 1, 2, 0, 2, 1, 0, 0, 2, 1, 2, 1, 0, 1, 0, 0, 1, 0, 0, 1, 2, 2,\n",
            "        2, 1, 0, 0, 2, 1, 2, 2], device='cuda:0')\n",
            "preds tensor([2, 2, 2, 2, 2, 2, 2, 2, 2, 2, 2, 2, 2, 2, 2, 2, 2, 2, 2, 2, 2, 2, 2, 2,\n",
            "        2, 2, 2, 2, 2, 2, 2, 2], device='cuda:0')\n",
            "y_val tensor([2, 2, 2, 1, 1, 1, 2, 2, 2, 1, 1, 2, 1, 1, 2, 2, 0, 2, 0, 2, 0, 0, 0, 2,\n",
            "        0, 2, 2, 2, 2, 0, 1, 1], device='cuda:0')\n",
            "preds tensor([2, 2, 2, 2, 2, 2, 2, 2, 2, 2, 2, 2, 2, 2, 2, 2, 2, 2, 2, 2, 2, 2, 2, 2,\n",
            "        2, 2, 2, 2, 2, 2, 2, 2], device='cuda:0')\n",
            "y_val tensor([2, 1, 1, 0, 0, 2, 0, 1, 0, 1, 1, 2, 0, 0, 2, 2, 0, 1, 1, 1, 1, 0, 2, 2,\n",
            "        0, 1, 1, 1, 2, 1, 2, 2], device='cuda:0')\n",
            "preds tensor([2, 2, 2, 2, 2, 2, 2, 2, 2, 2, 2, 2, 2, 2, 2, 2, 2, 2, 2, 2, 2, 2, 2, 2,\n",
            "        2, 2, 2, 2, 2, 2, 2, 2], device='cuda:0')\n",
            "y_val tensor([0, 0, 0, 0, 0, 2, 0, 0, 1, 1, 0, 0, 0, 2, 2, 2, 0, 0, 2, 2, 0, 0, 1, 2,\n",
            "        2, 0, 1, 0, 1, 0, 1, 0], device='cuda:0')\n",
            "preds tensor([2, 2, 2, 2, 2, 2, 2, 2, 2, 2, 2, 2, 2, 2, 2, 2, 2, 2, 2, 2, 2, 2, 2, 2,\n",
            "        2, 2, 2, 2, 2, 2, 2, 2], device='cuda:0')\n",
            "y_val tensor([2, 2, 2, 0, 1, 0, 1, 0, 1, 2, 0, 1, 1, 0, 2, 2, 2, 0, 1, 2, 1, 1, 1, 2,\n",
            "        0, 1, 2, 2, 1, 2, 1, 2], device='cuda:0')\n",
            "preds tensor([2, 2, 2, 2, 2, 2, 2, 2, 2, 2, 2, 2], device='cuda:0')\n",
            "y_val tensor([0, 2, 0, 0, 0, 1, 1, 1, 1, 1, 2, 1], device='cuda:0')\n",
            "Epoch:   1. Loss: 1.1000. Acc.: 33.33%\n",
            "training loop :: epoch is 2\n",
            "validation loop :: epoch is 2\n",
            "preds tensor([1, 1, 1, 1, 1, 1, 1, 1, 1, 1, 1, 1, 1, 1, 1, 1, 1, 1, 1, 1, 1, 1, 1, 1,\n",
            "        1, 1, 1, 1, 1, 1, 1, 1], device='cuda:0')\n",
            "y_val tensor([2, 1, 0, 1, 1, 0, 2, 2, 0, 0, 1, 0, 0, 2, 0, 1, 2, 0, 1, 0, 0, 1, 0, 1,\n",
            "        0, 0, 1, 1, 2, 0, 0, 2], device='cuda:0')\n",
            "preds tensor([1, 1, 1, 1, 1, 1, 1, 1, 1, 1, 1, 1, 1, 1, 1, 1, 1, 1, 1, 1, 1, 1, 1, 1,\n",
            "        1, 2, 1, 1, 1, 1, 1, 1], device='cuda:0')\n",
            "y_val tensor([1, 1, 2, 0, 1, 2, 2, 1, 1, 2, 0, 2, 0, 0, 2, 2, 1, 0, 0, 1, 2, 2, 2, 1,\n",
            "        2, 0, 1, 0, 2, 0, 0, 0], device='cuda:0')\n",
            "preds tensor([1, 1, 1, 1, 1, 1, 1, 2, 1, 1, 1, 1, 1, 1, 1, 1, 1, 1, 1, 1, 1, 1, 1, 1,\n",
            "        1, 1, 1, 1, 1, 1, 1, 1], device='cuda:0')\n",
            "y_val tensor([1, 1, 2, 2, 0, 0, 1, 0, 1, 2, 0, 2, 0, 1, 2, 1, 2, 0, 2, 1, 2, 1, 2, 2,\n",
            "        1, 2, 2, 2, 1, 0, 1, 1], device='cuda:0')\n",
            "preds tensor([1, 1, 1, 1, 1, 1, 1, 1, 1, 1, 1, 1, 1, 1, 1, 1, 1, 1, 1, 1, 1, 1, 1, 1,\n",
            "        1, 1, 1, 1, 1, 1, 1, 1], device='cuda:0')\n",
            "y_val tensor([0, 2, 1, 1, 2, 1, 0, 1, 2, 0, 1, 2, 0, 1, 2, 2, 0, 2, 0, 1, 0, 2, 0, 0,\n",
            "        1, 2, 2, 1, 1, 2, 0, 1], device='cuda:0')\n",
            "preds tensor([1, 1, 1, 1, 1, 1, 1, 1, 1, 1, 1, 1, 1, 1, 1, 1, 1, 1, 1, 1, 1, 1, 1, 1,\n",
            "        1, 1, 1, 1, 1, 1, 1, 1], device='cuda:0')\n",
            "y_val tensor([2, 1, 0, 2, 2, 2, 2, 1, 0, 1, 2, 2, 0, 1, 2, 1, 2, 1, 0, 0, 0, 0, 0, 1,\n",
            "        2, 2, 1, 1, 1, 1, 0, 2], device='cuda:0')\n",
            "preds tensor([1, 1, 1, 1, 1, 1, 1, 1, 1, 1, 1, 1, 1, 1, 1, 1, 1, 1, 1, 1, 1, 1, 1, 1,\n",
            "        1, 1, 1, 1, 1, 1, 1, 1], device='cuda:0')\n",
            "y_val tensor([1, 2, 0, 0, 0, 2, 0, 1, 2, 0, 2, 1, 1, 2, 1, 0, 2, 2, 1, 1, 1, 0, 0, 0,\n",
            "        2, 2, 1, 2, 1, 2, 1, 2], device='cuda:0')\n",
            "preds tensor([1, 1, 1, 1, 1, 1, 1, 1, 1, 1, 1, 1, 1, 1, 1, 1, 1, 1, 1, 1, 1, 1, 1, 1,\n",
            "        1, 1, 1, 1, 1, 1, 1, 2], device='cuda:0')\n",
            "y_val tensor([1, 1, 2, 1, 2, 0, 2, 2, 0, 0, 2, 1, 1, 1, 0, 2, 2, 2, 2, 1, 1, 2, 0, 2,\n",
            "        0, 1, 1, 2, 1, 1, 1, 0], device='cuda:0')\n",
            "preds tensor([1, 1, 1, 1, 1, 1, 2, 1, 1, 1, 1, 1, 1, 1, 1, 1, 2, 1, 1, 1, 1, 1, 1, 1,\n",
            "        1, 1, 1, 1, 1, 1, 1, 1], device='cuda:0')\n",
            "y_val tensor([2, 1, 1, 0, 2, 1, 0, 2, 1, 0, 0, 0, 2, 0, 2, 1, 0, 2, 0, 1, 0, 1, 2, 0,\n",
            "        0, 0, 0, 1, 1, 2, 2, 1], device='cuda:0')\n",
            "preds tensor([1, 1, 1, 1, 1, 1, 1, 1, 1, 1, 2, 1, 1, 1, 1, 1, 1, 1, 1, 1, 1, 1, 1, 1,\n",
            "        1, 1, 1, 1, 1, 1, 1, 1], device='cuda:0')\n",
            "y_val tensor([1, 0, 0, 1, 1, 2, 0, 0, 0, 0, 0, 0, 1, 0, 1, 2, 2, 2, 0, 2, 2, 2, 1, 0,\n",
            "        1, 0, 0, 1, 2, 1, 0, 2], device='cuda:0')\n",
            "preds tensor([1, 1, 1, 1, 1, 1, 1, 1, 1, 1, 1, 1], device='cuda:0')\n",
            "y_val tensor([0, 1, 1, 1, 0, 1, 2, 0, 0, 0, 2, 2], device='cuda:0')\n",
            "Epoch:   2. Loss: 1.0949. Acc.: 33.33%\n",
            "training loop :: epoch is 3\n",
            "validation loop :: epoch is 3\n",
            "preds tensor([1, 1, 1, 1, 1, 1, 1, 1, 1, 1, 1, 1, 1, 1, 1, 1, 1, 1, 1, 1, 1, 1, 1, 1,\n",
            "        1, 1, 1, 1, 1, 1, 1, 1], device='cuda:0')\n",
            "y_val tensor([1, 0, 1, 2, 0, 0, 0, 0, 1, 1, 0, 0, 2, 0, 0, 1, 1, 1, 2, 0, 2, 2, 2, 1,\n",
            "        2, 1, 2, 0, 0, 1, 2, 1], device='cuda:0')\n",
            "preds tensor([1, 1, 1, 1, 1, 1, 1, 1, 1, 1, 1, 1, 1, 1, 1, 1, 1, 1, 1, 1, 1, 1, 1, 1,\n",
            "        1, 1, 1, 1, 1, 1, 1, 1], device='cuda:0')\n",
            "y_val tensor([1, 2, 0, 0, 1, 1, 0, 0, 2, 2, 2, 1, 1, 2, 1, 2, 0, 1, 2, 0, 2, 2, 2, 2,\n",
            "        0, 2, 2, 2, 2, 1, 2, 0], device='cuda:0')\n",
            "preds tensor([1, 1, 1, 1, 1, 1, 1, 1, 1, 1, 1, 1, 1, 1, 1, 1, 1, 1, 1, 1, 1, 1, 1, 1,\n",
            "        1, 1, 1, 1, 1, 1, 1, 1], device='cuda:0')\n",
            "y_val tensor([1, 2, 1, 1, 0, 1, 1, 2, 1, 1, 1, 2, 2, 2, 0, 0, 2, 2, 2, 0, 2, 1, 2, 1,\n",
            "        1, 1, 0, 0, 0, 2, 2, 2], device='cuda:0')\n",
            "preds tensor([1, 1, 1, 1, 1, 1, 1, 1, 1, 1, 1, 1, 1, 1, 1, 1, 1, 1, 1, 1, 1, 1, 1, 1,\n",
            "        1, 1, 1, 1, 1, 1, 1, 1], device='cuda:0')\n",
            "y_val tensor([2, 2, 1, 0, 2, 2, 0, 2, 2, 1, 0, 0, 1, 2, 0, 0, 0, 0, 0, 2, 1, 2, 2, 1,\n",
            "        2, 1, 1, 0, 1, 1, 0, 2], device='cuda:0')\n",
            "preds tensor([1, 1, 1, 1, 1, 1, 1, 1, 1, 1, 1, 1, 1, 1, 1, 1, 1, 1, 1, 1, 1, 1, 1, 1,\n",
            "        1, 1, 1, 1, 1, 1, 1, 1], device='cuda:0')\n",
            "y_val tensor([2, 0, 2, 2, 0, 2, 1, 0, 2, 0, 2, 0, 1, 2, 2, 1, 2, 1, 1, 1, 1, 0, 0, 2,\n",
            "        1, 2, 2, 1, 2, 2, 1, 0], device='cuda:0')\n",
            "preds tensor([1, 1, 1, 1, 1, 1, 1, 1, 1, 1, 1, 1, 1, 1, 1, 1, 1, 1, 1, 1, 1, 1, 1, 1,\n",
            "        1, 1, 1, 1, 1, 1, 1, 1], device='cuda:0')\n",
            "y_val tensor([0, 1, 0, 0, 0, 2, 1, 0, 2, 0, 1, 2, 2, 1, 1, 2, 1, 1, 2, 0, 1, 2, 1, 2,\n",
            "        0, 0, 0, 0, 2, 2, 1, 1], device='cuda:0')\n",
            "preds tensor([1, 1, 1, 1, 1, 1, 1, 1, 1, 1, 1, 1, 1, 1, 1, 1, 1, 1, 1, 1, 1, 1, 1, 1,\n",
            "        1, 1, 1, 1, 1, 1, 1, 1], device='cuda:0')\n",
            "y_val tensor([0, 2, 1, 2, 0, 1, 0, 1, 1, 1, 2, 2, 0, 0, 1, 1, 2, 1, 1, 1, 2, 0, 0, 0,\n",
            "        1, 2, 1, 1, 0, 0, 1, 1], device='cuda:0')\n",
            "preds tensor([1, 1, 1, 1, 1, 1, 1, 1, 1, 1, 1, 1, 1, 1, 1, 1, 1, 1, 1, 1, 1, 1, 1, 1,\n",
            "        1, 1, 1, 1, 1, 1, 1, 1], device='cuda:0')\n",
            "y_val tensor([1, 1, 2, 1, 0, 1, 0, 1, 1, 1, 0, 2, 1, 1, 1, 1, 0, 2, 0, 0, 1, 2, 1, 0,\n",
            "        1, 0, 0, 0, 1, 0, 0, 1], device='cuda:0')\n"
          ]
        },
        {
          "output_type": "error",
          "ename": "KeyboardInterrupt",
          "evalue": "ignored",
          "traceback": [
            "\u001b[0;31m---------------------------------------------------------------------------\u001b[0m",
            "\u001b[0;31mKeyboardInterrupt\u001b[0m                         Traceback (most recent call last)",
            "\u001b[0;32m<ipython-input-118-6c8bf5627757>\u001b[0m in \u001b[0;36m<module>\u001b[0;34m()\u001b[0m\n\u001b[1;32m     36\u001b[0m         \u001b[0my_val\u001b[0m \u001b[0;34m=\u001b[0m \u001b[0my_val\u001b[0m\u001b[0;34m.\u001b[0m\u001b[0mto\u001b[0m\u001b[0;34m(\u001b[0m\u001b[0mdevice\u001b[0m\u001b[0;34m)\u001b[0m\u001b[0;34m\u001b[0m\u001b[0;34m\u001b[0m\u001b[0m\n\u001b[1;32m     37\u001b[0m         \u001b[0mx_val\u001b[0m\u001b[0;34m=\u001b[0m\u001b[0mtorch\u001b[0m\u001b[0;34m.\u001b[0m\u001b[0munsqueeze\u001b[0m\u001b[0;34m(\u001b[0m\u001b[0mx_val\u001b[0m\u001b[0;34m,\u001b[0m\u001b[0;36m2\u001b[0m\u001b[0;34m)\u001b[0m\u001b[0;34m\u001b[0m\u001b[0;34m\u001b[0m\u001b[0m\n\u001b[0;32m---> 38\u001b[0;31m         \u001b[0mout\u001b[0m \u001b[0;34m=\u001b[0m \u001b[0mmodel\u001b[0m\u001b[0;34m(\u001b[0m\u001b[0mx_val\u001b[0m\u001b[0;34m)\u001b[0m\u001b[0;34m\u001b[0m\u001b[0;34m\u001b[0m\u001b[0m\n\u001b[0m\u001b[1;32m     39\u001b[0m         \u001b[0mloss_val\u001b[0m \u001b[0;34m=\u001b[0m \u001b[0mcriteria\u001b[0m\u001b[0;34m(\u001b[0m\u001b[0mout\u001b[0m\u001b[0;34m,\u001b[0m\u001b[0my_val\u001b[0m\u001b[0;34m)\u001b[0m\u001b[0;34m\u001b[0m\u001b[0;34m\u001b[0m\u001b[0m\n\u001b[1;32m     40\u001b[0m         \u001b[0mval_losses\u001b[0m\u001b[0;34m.\u001b[0m\u001b[0mappend\u001b[0m\u001b[0;34m(\u001b[0m\u001b[0mloss_val\u001b[0m\u001b[0;34m.\u001b[0m\u001b[0mitem\u001b[0m\u001b[0;34m(\u001b[0m\u001b[0;34m)\u001b[0m\u001b[0;34m)\u001b[0m\u001b[0;34m\u001b[0m\u001b[0;34m\u001b[0m\u001b[0m\n",
            "\u001b[0;32m/usr/local/lib/python3.7/dist-packages/torch/nn/modules/module.py\u001b[0m in \u001b[0;36m_call_impl\u001b[0;34m(self, *input, **kwargs)\u001b[0m\n\u001b[1;32m   1049\u001b[0m         if not (self._backward_hooks or self._forward_hooks or self._forward_pre_hooks or _global_backward_hooks\n\u001b[1;32m   1050\u001b[0m                 or _global_forward_hooks or _global_forward_pre_hooks):\n\u001b[0;32m-> 1051\u001b[0;31m             \u001b[0;32mreturn\u001b[0m \u001b[0mforward_call\u001b[0m\u001b[0;34m(\u001b[0m\u001b[0;34m*\u001b[0m\u001b[0minput\u001b[0m\u001b[0;34m,\u001b[0m \u001b[0;34m**\u001b[0m\u001b[0mkwargs\u001b[0m\u001b[0;34m)\u001b[0m\u001b[0;34m\u001b[0m\u001b[0;34m\u001b[0m\u001b[0m\n\u001b[0m\u001b[1;32m   1052\u001b[0m         \u001b[0;31m# Do not call functions when jit is used\u001b[0m\u001b[0;34m\u001b[0m\u001b[0;34m\u001b[0m\u001b[0;34m\u001b[0m\u001b[0m\n\u001b[1;32m   1053\u001b[0m         \u001b[0mfull_backward_hooks\u001b[0m\u001b[0;34m,\u001b[0m \u001b[0mnon_full_backward_hooks\u001b[0m \u001b[0;34m=\u001b[0m \u001b[0;34m[\u001b[0m\u001b[0;34m]\u001b[0m\u001b[0;34m,\u001b[0m \u001b[0;34m[\u001b[0m\u001b[0;34m]\u001b[0m\u001b[0;34m\u001b[0m\u001b[0;34m\u001b[0m\u001b[0m\n",
            "\u001b[0;32m<ipython-input-30-0c90d3cb02fd>\u001b[0m in \u001b[0;36mforward\u001b[0;34m(self, x)\u001b[0m\n\u001b[1;32m     12\u001b[0m     \u001b[0;32mdef\u001b[0m \u001b[0mforward\u001b[0m\u001b[0;34m(\u001b[0m\u001b[0mself\u001b[0m\u001b[0;34m,\u001b[0m \u001b[0mx\u001b[0m\u001b[0;34m)\u001b[0m\u001b[0;34m:\u001b[0m\u001b[0;34m\u001b[0m\u001b[0;34m\u001b[0m\u001b[0m\n\u001b[1;32m     13\u001b[0m         \u001b[0mh0\u001b[0m\u001b[0;34m,\u001b[0m \u001b[0mc0\u001b[0m \u001b[0;34m=\u001b[0m \u001b[0mself\u001b[0m\u001b[0;34m.\u001b[0m\u001b[0minit_hidden\u001b[0m\u001b[0;34m(\u001b[0m\u001b[0mx\u001b[0m\u001b[0;34m)\u001b[0m\u001b[0;34m\u001b[0m\u001b[0;34m\u001b[0m\u001b[0m\n\u001b[0;32m---> 14\u001b[0;31m         \u001b[0mout\u001b[0m\u001b[0;34m,\u001b[0m \u001b[0;34m(\u001b[0m\u001b[0mhn\u001b[0m\u001b[0;34m,\u001b[0m \u001b[0mcn\u001b[0m\u001b[0;34m)\u001b[0m \u001b[0;34m=\u001b[0m \u001b[0mself\u001b[0m\u001b[0;34m.\u001b[0m\u001b[0mlstm\u001b[0m\u001b[0;34m(\u001b[0m\u001b[0mx\u001b[0m\u001b[0;34m,\u001b[0m \u001b[0;34m(\u001b[0m\u001b[0mh0\u001b[0m\u001b[0;34m,\u001b[0m \u001b[0mc0\u001b[0m\u001b[0;34m)\u001b[0m\u001b[0;34m)\u001b[0m\u001b[0;34m\u001b[0m\u001b[0;34m\u001b[0m\u001b[0m\n\u001b[0m\u001b[1;32m     15\u001b[0m         \u001b[0mout\u001b[0m \u001b[0;34m=\u001b[0m \u001b[0mself\u001b[0m\u001b[0;34m.\u001b[0m\u001b[0mfc\u001b[0m\u001b[0;34m(\u001b[0m\u001b[0mout\u001b[0m\u001b[0;34m[\u001b[0m\u001b[0;34m:\u001b[0m\u001b[0;34m,\u001b[0m \u001b[0;34m-\u001b[0m\u001b[0;36m1\u001b[0m\u001b[0;34m,\u001b[0m \u001b[0;34m:\u001b[0m\u001b[0;34m]\u001b[0m\u001b[0;34m)\u001b[0m\u001b[0;34m\u001b[0m\u001b[0;34m\u001b[0m\u001b[0m\n\u001b[1;32m     16\u001b[0m         \u001b[0;32mreturn\u001b[0m \u001b[0mout\u001b[0m\u001b[0;34m\u001b[0m\u001b[0;34m\u001b[0m\u001b[0m\n",
            "\u001b[0;32m/usr/local/lib/python3.7/dist-packages/torch/nn/modules/module.py\u001b[0m in \u001b[0;36m_call_impl\u001b[0;34m(self, *input, **kwargs)\u001b[0m\n\u001b[1;32m   1049\u001b[0m         if not (self._backward_hooks or self._forward_hooks or self._forward_pre_hooks or _global_backward_hooks\n\u001b[1;32m   1050\u001b[0m                 or _global_forward_hooks or _global_forward_pre_hooks):\n\u001b[0;32m-> 1051\u001b[0;31m             \u001b[0;32mreturn\u001b[0m \u001b[0mforward_call\u001b[0m\u001b[0;34m(\u001b[0m\u001b[0;34m*\u001b[0m\u001b[0minput\u001b[0m\u001b[0;34m,\u001b[0m \u001b[0;34m**\u001b[0m\u001b[0mkwargs\u001b[0m\u001b[0;34m)\u001b[0m\u001b[0;34m\u001b[0m\u001b[0;34m\u001b[0m\u001b[0m\n\u001b[0m\u001b[1;32m   1052\u001b[0m         \u001b[0;31m# Do not call functions when jit is used\u001b[0m\u001b[0;34m\u001b[0m\u001b[0;34m\u001b[0m\u001b[0;34m\u001b[0m\u001b[0m\n\u001b[1;32m   1053\u001b[0m         \u001b[0mfull_backward_hooks\u001b[0m\u001b[0;34m,\u001b[0m \u001b[0mnon_full_backward_hooks\u001b[0m \u001b[0;34m=\u001b[0m \u001b[0;34m[\u001b[0m\u001b[0;34m]\u001b[0m\u001b[0;34m,\u001b[0m \u001b[0;34m[\u001b[0m\u001b[0;34m]\u001b[0m\u001b[0;34m\u001b[0m\u001b[0;34m\u001b[0m\u001b[0m\n",
            "\u001b[0;32m/usr/local/lib/python3.7/dist-packages/torch/nn/modules/rnn.py\u001b[0m in \u001b[0;36mforward\u001b[0;34m(self, input, hx)\u001b[0m\n\u001b[1;32m    678\u001b[0m         \u001b[0;32mif\u001b[0m \u001b[0mbatch_sizes\u001b[0m \u001b[0;32mis\u001b[0m \u001b[0;32mNone\u001b[0m\u001b[0;34m:\u001b[0m\u001b[0;34m\u001b[0m\u001b[0;34m\u001b[0m\u001b[0m\n\u001b[1;32m    679\u001b[0m             result = _VF.lstm(input, hx, self._flat_weights, self.bias, self.num_layers,\n\u001b[0;32m--> 680\u001b[0;31m                               self.dropout, self.training, self.bidirectional, self.batch_first)\n\u001b[0m\u001b[1;32m    681\u001b[0m         \u001b[0;32melse\u001b[0m\u001b[0;34m:\u001b[0m\u001b[0;34m\u001b[0m\u001b[0;34m\u001b[0m\u001b[0m\n\u001b[1;32m    682\u001b[0m             result = _VF.lstm(input, batch_sizes, hx, self._flat_weights, self.bias,\n",
            "\u001b[0;31mKeyboardInterrupt\u001b[0m: "
          ]
        }
      ]
    },
    {
      "cell_type": "code",
      "metadata": {
        "id": "gUq1NJpibj4I",
        "colab": {
          "base_uri": "https://localhost:8080/",
          "height": 301
        },
        "outputId": "2dd1b3ba-edbb-445d-d22e-420502c9fcd8"
      },
      "source": [
        "ax = plt.figure().gca()\n",
        "ax.plot(history['train'])\n",
        "ax.plot(history['val'])\n",
        "plt.ylabel('Loss')\n",
        "plt.xlabel('Epoch')\n",
        "plt.legend(['train', 'validation'])\n",
        "plt.title('Loss over epochs')\n",
        "plt.savefig('Loss_over_epochs.png')"
      ],
      "id": "gUq1NJpibj4I",
      "execution_count": null,
      "outputs": [
        {
          "output_type": "display_data",
          "data": {
            "image/png": "[encoded data removed]",
            "text/plain": [
              "<Figure size 432x288 with 1 Axes>"
            ]
          },
          "metadata": {}
        }
      ]
    },
    {
      "cell_type": "code",
      "metadata": {
        "id": "f9ie5ssqHS3f"
      },
      "source": [
        "act =np.array(act)\n",
        "act= act.reshape(1200)\n"
      ],
      "id": "f9ie5ssqHS3f",
      "execution_count": null,
      "outputs": []
    },
    {
      "cell_type": "code",
      "metadata": {
        "id": "5aGDwsihH0g7"
      },
      "source": [
        "pred = np.array(pred)\n",
        "pred = pred.reshape(1200)"
      ],
      "id": "5aGDwsihH0g7",
      "execution_count": null,
      "outputs": []
    },
    {
      "cell_type": "code",
      "metadata": {
        "colab": {
          "base_uri": "https://localhost:8080/"
        },
        "id": "sQMuWiA6tMxL",
        "outputId": "8938843b-3880-4cf1-8de1-e562db41b98c"
      },
      "source": [
        "f1_score(act, pred, average='macro')"
      ],
      "id": "sQMuWiA6tMxL",
      "execution_count": null,
      "outputs": [
        {
          "output_type": "execute_result",
          "data": {
            "text/plain": [
              "0.3202042801934852"
            ]
          },
          "metadata": {},
          "execution_count": 109
        }
      ]
    },
    {
      "cell_type": "code",
      "metadata": {
        "id": "dKE5l3JO_LY-"
      },
      "source": [
        "conf_matrix = confusion_matrix(y_true=act, y_pred=pred)"
      ],
      "id": "dKE5l3JO_LY-",
      "execution_count": null,
      "outputs": []
    },
    {
      "cell_type": "code",
      "metadata": {
        "colab": {
          "base_uri": "https://localhost:8080/",
          "height": 435
        },
        "id": "QBvWRtHW_S4N",
        "outputId": "1d3ed564-c4e8-4a4c-9776-4f5b4ebf9461"
      },
      "source": [
        "fig, ax = plot_confusion_matrix(conf_mat=conf_matrix, figsize=(6, 6), cmap=plt.cm.Blues)\n",
        "plt.xlabel('Predictions', fontsize=18)\n",
        "plt.ylabel('Actuals', fontsize=18)\n",
        "plt.title('Confusion Matrix', fontsize=18)\n",
        "plt.show()"
      ],
      "id": "QBvWRtHW_S4N",
      "execution_count": null,
      "outputs": [
        {
          "output_type": "display_data",
          "data": {
            "image/png": "[encoded data removed]",
            "text/plain": [
              "<Figure size 432x432 with 1 Axes>"
            ]
          },
          "metadata": {}
        }
      ]
    },
    {
      "cell_type": "markdown",
      "metadata": {
        "id": "H47MPJTU0IXe"
      },
      "source": [
        "**PREDICTION**"
      ],
      "id": "H47MPJTU0IXe"
    },
    {
      "cell_type": "code",
      "metadata": {
        "colab": {
          "base_uri": "https://localhost:8080/"
        },
        "id": "3CvdGe6jvGHL",
        "outputId": "ae38da5f-fd83-4992-d67e-382706cc69b0"
      },
      "source": [
        "test_dl = DataLoader(test_data, batch_size=64, shuffle=False)\n",
        "y_classif = []\n",
        "predict_classif = []\n",
        "correct = 0\n",
        "total = 0\n",
        "print('Predicting on test dataset')\n",
        "model = model.to(device)\n",
        "with torch.no_grad():\n",
        "  for data in test_data:\n",
        "    x,y = data\n",
        "    #print(\"x\",x)\n",
        "    x = x.to(device)\n",
        "    y = y.to(device)\n",
        "    x=torch.unsqueeze(x,2)\n",
        "    out = model.train()(x)\n",
        "    _,predicted = torch.max(out.data,1)\n",
        "    total += y.size(0)\n",
        "    correct += (predicted==y).sum().item()\n",
        "    #print(f'y{y}')\n",
        "    #print(f'predicted{predicted}')\n",
        "    y_classif +=y.tolist()\n",
        "    predict_classif +=predicted.tolist()\n",
        "\n",
        "#print(\"y_classif\",y_classif)\n",
        "#print(\"predict_classif\",predict_classif)\n",
        "f1 =f1_score(y_classif, predict_classif, average='macro')\n",
        "print(f'f1 score is {f1}')\n",
        "\n",
        "print(\"accuracy on test %d %%\" % (100 * correct / total), )"
      ],
      "id": "3CvdGe6jvGHL",
      "execution_count": null,
      "outputs": [
        {
          "output_type": "stream",
          "name": "stdout",
          "text": [
            "Predicting on test dataset\n",
            "f1 score is 0.17901234567901234\n",
            "accuracy on test 33 %\n"
          ]
        }
      ]
    },
    {
      "cell_type": "code",
      "metadata": {
        "id": "Q37C-fAi0nys"
      },
      "source": [
        "conf_matrix = confusion_matrix(y_true=y_classif, y_pred=predict_classif)"
      ],
      "id": "Q37C-fAi0nys",
      "execution_count": null,
      "outputs": []
    },
    {
      "cell_type": "code",
      "metadata": {
        "colab": {
          "base_uri": "https://localhost:8080/",
          "height": 435
        },
        "id": "pMl06NMS0Zuw",
        "outputId": "d1525aee-f59b-40f0-f105-74cb442f1630"
      },
      "source": [
        "fig, ax = plot_confusion_matrix(conf_mat=conf_matrix, figsize=(6, 6), cmap=plt.cm.Blues)\n",
        "plt.xlabel('Predictions', fontsize=18)\n",
        "plt.ylabel('Actuals', fontsize=18)\n",
        "plt.title('Confusion Matrix', fontsize=18)\n",
        "plt.show()"
      ],
      "id": "pMl06NMS0Zuw",
      "execution_count": null,
      "outputs": [
        {
          "output_type": "display_data",
          "data": {
            "image/png": "[encoded data removed]",
            "text/plain": [
              "<Figure size 432x432 with 1 Axes>"
            ]
          },
          "metadata": {}
        }
      ]
    },
    {
      "cell_type": "code",
      "metadata": {
        "id": "T3pHHrCs07D-"
      },
      "source": [
        ""
      ],
      "id": "T3pHHrCs07D-",
      "execution_count": null,
      "outputs": []
    }
  ]
}